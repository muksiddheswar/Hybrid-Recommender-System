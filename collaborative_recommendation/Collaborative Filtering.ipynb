{
 "cells": [
  {
   "cell_type": "markdown",
   "metadata": {},
   "source": [
    "# Collaborative Filtering"
   ]
  },
  {
   "cell_type": "markdown",
   "metadata": {},
   "source": [
    "Collaborative recommendation using Implicit ALS algorithm.   \n",
    "Data source: Enriched url Data "
   ]
  },
  {
   "cell_type": "code",
   "execution_count": 5,
   "metadata": {},
   "outputs": [
    {
     "name": "stderr",
     "output_type": "stream",
     "text": [
      "D:\\Codes\\Recommendation Engine\\Hybrid-Recommender-System\\venv\\lib\\site-packages\\tqdm\\auto.py:22: TqdmWarning: IProgress not found. Please update jupyter and ipywidgets. See https://ipywidgets.readthedocs.io/en/stable/user_install.html\n",
      "  from .autonotebook import tqdm as notebook_tqdm\n"
     ]
    }
   ],
   "source": [
    "import re\n",
    "import os\n",
    "import math\n",
    "\n",
    "import sys\n",
    "import pandas as pd\n",
    "import numpy as np\n",
    "import scipy.sparse as sparse\n",
    "from scipy.sparse.linalg import spsolve\n",
    "import random\n",
    "\n",
    "from sklearn.preprocessing import MinMaxScaler\n",
    "\n",
    "import implicit"
   ]
  },
  {
   "cell_type": "markdown",
   "metadata": {},
   "source": [
    "# Preprocessing"
   ]
  },
  {
   "cell_type": "markdown",
   "metadata": {},
   "source": [
    "## Importing Article Master for Article Lookup"
   ]
  },
  {
   "cell_type": "code",
   "execution_count": 6,
   "metadata": {
    "scrolled": true
   },
   "outputs": [],
   "source": [
    "article_master= pd.read_csv(r'./URL_to_Article/URL_ArticleID_cHash_mapping.csv', sep=';')\n",
    "article_master['reduced_title'] = article_master.apply(lambda row: re.sub('[^A-Za-z0-9]+', '', row.title.lower()), axis = 1)\n"
   ]
  },
  {
   "cell_type": "code",
   "execution_count": 7,
   "metadata": {
    "scrolled": true
   },
   "outputs": [
    {
     "data": {
      "text/html": [
       "<div>\n",
       "<style scoped>\n",
       "    .dataframe tbody tr th:only-of-type {\n",
       "        vertical-align: middle;\n",
       "    }\n",
       "\n",
       "    .dataframe tbody tr th {\n",
       "        vertical-align: top;\n",
       "    }\n",
       "\n",
       "    .dataframe thead th {\n",
       "        text-align: right;\n",
       "    }\n",
       "</style>\n",
       "<table border=\"1\" class=\"dataframe\">\n",
       "  <thead>\n",
       "    <tr style=\"text-align: right;\">\n",
       "      <th></th>\n",
       "      <th>article_id</th>\n",
       "      <th>title</th>\n",
       "    </tr>\n",
       "  </thead>\n",
       "  <tbody>\n",
       "    <tr>\n",
       "      <th>0</th>\n",
       "      <td>12</td>\n",
       "      <td>Bridging the industrial heat divide</td>\n",
       "    </tr>\n",
       "    <tr>\n",
       "      <th>1</th>\n",
       "      <td>20</td>\n",
       "      <td>EUSEW 2016 - energy efficiency awards</td>\n",
       "    </tr>\n",
       "    <tr>\n",
       "      <th>2</th>\n",
       "      <td>21</td>\n",
       "      <td>How much can energy management actually save?</td>\n",
       "    </tr>\n",
       "    <tr>\n",
       "      <th>4</th>\n",
       "      <td>22</td>\n",
       "      <td>All eyes on China’s 13th Five-Year Plan for energy</td>\n",
       "    </tr>\n",
       "    <tr>\n",
       "      <th>7</th>\n",
       "      <td>23</td>\n",
       "      <td>EEIP at Turkish Energy Efficiency Week</td>\n",
       "    </tr>\n",
       "  </tbody>\n",
       "</table>\n",
       "</div>"
      ],
      "text/plain": [
       "   article_id                                               title\n",
       "0          12                 Bridging the industrial heat divide\n",
       "1          20               EUSEW 2016 - energy efficiency awards\n",
       "2          21       How much can energy management actually save?\n",
       "4          22  All eyes on China’s 13th Five-Year Plan for energy\n",
       "7          23              EEIP at Turkish Energy Efficiency Week"
      ]
     },
     "execution_count": 7,
     "metadata": {},
     "output_type": "execute_result"
    }
   ],
   "source": [
    "article_lookup_ID = article_master.loc[:,['article_id', 'title', 'reduced_title']]\n",
    "article_lookup_ID = article_lookup_ID.drop_duplicates(['article_id', 'reduced_title'], keep='first')\n",
    "article_lookup_ID = article_lookup_ID.drop(['reduced_title'], axis = 1)\n",
    "pd.set_option('display.max_colwidth', 200)\n",
    "article_lookup_ID.head()"
   ]
  },
  {
   "cell_type": "markdown",
   "metadata": {},
   "source": [
    "## Importing Interaction and processing "
   ]
  },
  {
   "cell_type": "code",
   "execution_count": 8,
   "metadata": {},
   "outputs": [],
   "source": [
    "raw_interaction = pd.read_csv(r'./Enriched_data/InteractionData.csv')\n",
    "# raw_interaction = pd.read_csv(r'./Enriched_data/new__report-5670-20190711132352.csv')\n",
    "\n",
    "raw_interaction = raw_interaction.loc[:,['IP Address', 'Entry Page', 'Page Visits', 'Visit Duration']]"
   ]
  },
  {
   "cell_type": "code",
   "execution_count": 9,
   "metadata": {},
   "outputs": [],
   "source": [
    "# pd.set_option('max_colwidth', 100)\n",
    "page_visit_url = raw_interaction[\"Page Visits\"].str.split(\"-->\", expand=True)\n",
    "page_count = pd.DataFrame(page_visit_url.apply(lambda x: x.count(), axis=1))\n",
    "page_count = page_count.rename(columns= {0: 'Page Count'})\n",
    "page_visit_url = raw_interaction['Entry Page'].to_frame().join(page_visit_url)"
   ]
  },
  {
   "cell_type": "code",
   "execution_count": 10,
   "metadata": {},
   "outputs": [],
   "source": [
    "flag = pd.DataFrame(np.zeros((len(page_visit_url), 1)))\n",
    "flag = flag.rename(columns= {0: 'Flag'})"
   ]
  },
  {
   "cell_type": "markdown",
   "metadata": {},
   "source": [
    "## Converting URLs to ArticleID"
   ]
  },
  {
   "cell_type": "code",
   "execution_count": 11,
   "metadata": {},
   "outputs": [],
   "source": [
    "# Returns ArticleID from for the URL\n",
    "# Returns 0 if \n",
    "#     1. URL starts with www2.\n",
    "#     2. Article not found.\n",
    "\n",
    "def urls_to_id(url):\n",
    "    \n",
    "    if url is None or (isinstance(url, float) and  math.isnan(url)):\n",
    "        return 0\n",
    "    \n",
    "    #   Remove www. header from the URL\n",
    "    if url[0:4] == 'www.':\n",
    "        url = url[4:]\n",
    "        \n",
    "    #   If URL starts with www2. return 0.\n",
    "    if url[0:5] == 'www2.':\n",
    "        return 0\n",
    "    \n",
    "    url_tokens = url.split(\"/\")\n",
    "    \n",
    "    #   If URL is not an article return 0\n",
    "    if len(url_tokens) < 5:\n",
    "        return 0\n",
    "    if url_tokens[1]!= 'articles':\n",
    "        return 0 \n",
    "    \n",
    "    \n",
    "    #   If URL is an article return the article name\n",
    "    token4 = url_tokens[3]\n",
    "    token5 = url_tokens[4]\n",
    "    \n",
    "    #     If token4 not blank then it must be the article name or the cHash\n",
    "    if token4 != '':\n",
    "        \n",
    "        #   Assuming that the 4th token is the cHash\n",
    "        search_cHash_rows = article_master.loc[article_master['cHash'] == token4]\n",
    "        \n",
    "        #   if no match found in the cHash column\n",
    "        #   Then token4 is the article name and so token5 is the cHash\n",
    "        if len(search_cHash_rows) < 1:\n",
    "            search_cHash_rows = article_master.loc[article_master['cHash'] == token4]\n",
    "                \n",
    "        #   Return ArticleID if exact match found with cHash\n",
    "        if len(search_cHash_rows) == 1: \n",
    "            return int(search_cHash_rows['article_id'])\n",
    "        \n",
    "        #   Return the fist ArticleID if multiple articles found\n",
    "        #   This is because cHash and articles have a one-to-one matching\n",
    "        if len(search_cHash_rows) > 1: \n",
    "            return int(search_cHash_rows.loc[search_cHash_rows.index[0], 'article_id'])\n",
    "        \n",
    "        #   Return 0 by default if none of the cases match\n",
    "        return 0\n",
    "        \n",
    "    \n",
    "    #     If token4 blank then token5 must be the article name\n",
    "    else:\n",
    "        #   removing spaces and punctuations from the URL article name\n",
    "        article_name = (re.sub('[A-Za-z0-9]+', '', token5)).lower()\n",
    "        \n",
    "        #   Pattern searching on title since the URL might not have the full article name\n",
    "        #   This also takes care if the situation in which multiple articles have similar titles       \n",
    "        search_article_name_rows = article_master[article_master['reduced_title'].str.contains(article_name)]\n",
    "        \n",
    "        #   Return ArticleID if match found with article_name\n",
    "        if len(search_article_name_rows) == 1: \n",
    "            return int(search_article_name_rows['article_id'])\n",
    "        \n",
    "        #   If multiple rows found assume that all rows point to the same article\n",
    "        #   return the article_id of the first row\n",
    "        if len(search_article_name_rows) < 1: \n",
    "            return int(search_article_name_rows['article_id'][0])\n",
    "        \n",
    "        #   Return 0 by default if none of the cases match\n",
    "        return 0\n",
    "        "
   ]
  },
  {
   "cell_type": "code",
   "execution_count": 12,
   "metadata": {},
   "outputs": [],
   "source": [
    "# Flag value notes if the row has any article pages\n",
    "# If not then flag for that row is 0\n",
    "\n",
    "cols = list(page_visit_url)\n",
    "url_article_id_list = []\n",
    "for i in range(len(page_visit_url)):\n",
    "    url_article_id_list.append([])\n",
    "    \n",
    "    for j in list(page_visit_url):\n",
    "        article_id = urls_to_id(page_visit_url[j][i])\n",
    "        \n",
    "        #  If the PageVisit1 ID is the same as EntryPage ID, then put PageVisit1 as 0\n",
    "        if j == 0 and url_article_id_list[-1][-1] == article_id:            \n",
    "            url_article_id_list[-1].append(0)\n",
    "        \n",
    "        else:\n",
    "            url_article_id_list[-1].append(urls_to_id(page_visit_url[j][i]))\n",
    "            \n",
    "        if url_article_id_list[-1][-1] != 0:\n",
    "            flag['Flag'][i] +=1 \n",
    "\n",
    "\n",
    "# url_article_id_list\n",
    "page_visit_id = pd.DataFrame(url_article_id_list, columns = cols)"
   ]
  },
  {
   "cell_type": "markdown",
   "metadata": {},
   "source": [
    "## Creating final dataframe"
   ]
  },
  {
   "cell_type": "code",
   "execution_count": 13,
   "metadata": {},
   "outputs": [],
   "source": [
    "srt = page_visit_id.iloc[:,0:len(cols)].apply(lambda x: \",\".join(x.astype(str)), axis=1)\n",
    "new_interaction = raw_interaction.loc[:, ~raw_interaction.columns.isin(['Entry Page','Page Visits'])].join(pd.DataFrame(srt))\n",
    "new_interaction = new_interaction.rename(columns= {0: 'Pages'})\n",
    "new_interaction = new_interaction.join(flag)\n",
    "new_interaction = new_interaction.join(page_count)"
   ]
  },
  {
   "cell_type": "code",
   "execution_count": 14,
   "metadata": {},
   "outputs": [],
   "source": [
    "new_interaction = new_interaction.dropna(subset=['Visit Duration'])\n",
    "new_interaction = new_interaction[new_interaction['Visit Duration'] > 0]\n",
    "new_interaction = new_interaction[new_interaction['Flag'] > 0]\n",
    "new_interaction = new_interaction.reset_index(drop = True)\n"
   ]
  },
  {
   "cell_type": "code",
   "execution_count": 15,
   "metadata": {},
   "outputs": [],
   "source": [
    "# cols = ['IPAddress', 'Page', 'Weight']\n",
    "data_list = []\n",
    "for i in range(len(new_interaction)):\n",
    "    ip = (new_interaction.loc[i,['IP Address']]).item()\n",
    "    duration = float(new_interaction.loc[i,['Visit Duration']])\n",
    "    count = float(new_interaction.loc[i,['Page Count']])\n",
    "    stay_count = duration / count\n",
    "    \n",
    "    pages = new_interaction.loc[i,['Pages']]\n",
    "    for i in (pages.item()).split(','):\n",
    "        if(i != '0'):\n",
    "            data_list.append([ip, i, stay_count])\n",
    "            \n",
    "            \n",
    "data = pd.DataFrame(data_list, columns = ['IPAddress', 'Page', 'Weight'])"
   ]
  },
  {
   "cell_type": "code",
   "execution_count": 16,
   "metadata": {
    "scrolled": true
   },
   "outputs": [
    {
     "data": {
      "text/html": [
       "<div>\n",
       "<style scoped>\n",
       "    .dataframe tbody tr th:only-of-type {\n",
       "        vertical-align: middle;\n",
       "    }\n",
       "\n",
       "    .dataframe tbody tr th {\n",
       "        vertical-align: top;\n",
       "    }\n",
       "\n",
       "    .dataframe thead th {\n",
       "        text-align: right;\n",
       "    }\n",
       "</style>\n",
       "<table border=\"1\" class=\"dataframe\">\n",
       "  <thead>\n",
       "    <tr style=\"text-align: right;\">\n",
       "      <th></th>\n",
       "      <th>IPAddress</th>\n",
       "      <th>Page</th>\n",
       "      <th>Weight</th>\n",
       "    </tr>\n",
       "  </thead>\n",
       "  <tbody>\n",
       "    <tr>\n",
       "      <th>0</th>\n",
       "      <td>0.253.137.182</td>\n",
       "      <td>100216</td>\n",
       "      <td>0.001891</td>\n",
       "    </tr>\n",
       "    <tr>\n",
       "      <th>1</th>\n",
       "      <td>0.87.65.250</td>\n",
       "      <td>100148</td>\n",
       "      <td>0.290241</td>\n",
       "    </tr>\n",
       "    <tr>\n",
       "      <th>2</th>\n",
       "      <td>0.87.65.250</td>\n",
       "      <td>100166</td>\n",
       "      <td>0.236517</td>\n",
       "    </tr>\n",
       "    <tr>\n",
       "      <th>3</th>\n",
       "      <td>0.87.65.250</td>\n",
       "      <td>100167</td>\n",
       "      <td>0.118241</td>\n",
       "    </tr>\n",
       "    <tr>\n",
       "      <th>4</th>\n",
       "      <td>1.110.29.103</td>\n",
       "      <td>100215</td>\n",
       "      <td>0.002100</td>\n",
       "    </tr>\n",
       "  </tbody>\n",
       "</table>\n",
       "</div>"
      ],
      "text/plain": [
       "       IPAddress    Page    Weight\n",
       "0  0.253.137.182  100216  0.001891\n",
       "1    0.87.65.250  100148  0.290241\n",
       "2    0.87.65.250  100166  0.236517\n",
       "3    0.87.65.250  100167  0.118241\n",
       "4   1.110.29.103  100215  0.002100"
      ]
     },
     "execution_count": 16,
     "metadata": {},
     "output_type": "execute_result"
    }
   ],
   "source": [
    "data = data.groupby(['IPAddress', 'Page']).sum().reset_index()\n",
    "data['Weight'] = (data['Weight'] - data['Weight'].min())/(data['Weight'].max() - data['Weight'].min())\n",
    "data.head()"
   ]
  },
  {
   "cell_type": "code",
   "execution_count": 17,
   "metadata": {},
   "outputs": [],
   "source": [
    "data['user_id'] = data['IPAddress'].astype(\"category\").cat.codes\n",
    "data['page_id'] = data['Page'].astype(\"category\").cat.codes\n",
    "\n",
    "user_lookup = data[['user_id', 'IPAddress']].drop_duplicates()\n",
    "\n",
    "page_lookup = data[['page_id', 'Page']].drop_duplicates()\n",
    "page_lookup['Page'] = page_lookup['Page'].astype('int64')\n",
    "page_lookup = pd.merge(page_lookup, article_lookup_ID, how='inner', left_on = 'Page', right_on = 'article_id')\n",
    "page_lookup = page_lookup.drop(['Page'], axis = 1)\n",
    "\n",
    "\n",
    "\n",
    "data = data.drop(['IPAddress', 'Page'], axis = 1)"
   ]
  },
  {
   "cell_type": "code",
   "execution_count": 18,
   "metadata": {
    "scrolled": false
   },
   "outputs": [
    {
     "data": {
      "text/html": [
       "<div>\n",
       "<style scoped>\n",
       "    .dataframe tbody tr th:only-of-type {\n",
       "        vertical-align: middle;\n",
       "    }\n",
       "\n",
       "    .dataframe tbody tr th {\n",
       "        vertical-align: top;\n",
       "    }\n",
       "\n",
       "    .dataframe thead th {\n",
       "        text-align: right;\n",
       "    }\n",
       "</style>\n",
       "<table border=\"1\" class=\"dataframe\">\n",
       "  <thead>\n",
       "    <tr style=\"text-align: right;\">\n",
       "      <th></th>\n",
       "      <th>user_id</th>\n",
       "      <th>page_id</th>\n",
       "      <th>Weight</th>\n",
       "    </tr>\n",
       "  </thead>\n",
       "  <tbody>\n",
       "    <tr>\n",
       "      <th>0</th>\n",
       "      <td>0</td>\n",
       "      <td>113</td>\n",
       "      <td>0.001891</td>\n",
       "    </tr>\n",
       "    <tr>\n",
       "      <th>1</th>\n",
       "      <td>1</td>\n",
       "      <td>65</td>\n",
       "      <td>0.290241</td>\n",
       "    </tr>\n",
       "    <tr>\n",
       "      <th>2</th>\n",
       "      <td>1</td>\n",
       "      <td>82</td>\n",
       "      <td>0.236517</td>\n",
       "    </tr>\n",
       "    <tr>\n",
       "      <th>3</th>\n",
       "      <td>1</td>\n",
       "      <td>83</td>\n",
       "      <td>0.118241</td>\n",
       "    </tr>\n",
       "    <tr>\n",
       "      <th>4</th>\n",
       "      <td>2</td>\n",
       "      <td>112</td>\n",
       "      <td>0.002100</td>\n",
       "    </tr>\n",
       "  </tbody>\n",
       "</table>\n",
       "</div>"
      ],
      "text/plain": [
       "   user_id  page_id    Weight\n",
       "0        0      113  0.001891\n",
       "1        1       65  0.290241\n",
       "2        1       82  0.236517\n",
       "3        1       83  0.118241\n",
       "4        2      112  0.002100"
      ]
     },
     "execution_count": 18,
     "metadata": {},
     "output_type": "execute_result"
    }
   ],
   "source": [
    "data = data[['user_id', 'page_id', 'Weight']]\n",
    "data.head()"
   ]
  },
  {
   "cell_type": "markdown",
   "metadata": {},
   "source": [
    "# Model Creation and Fitting"
   ]
  },
  {
   "cell_type": "code",
   "execution_count": 19,
   "metadata": {},
   "outputs": [],
   "source": [
    "# The implicit library expects data as a item-user matrix so we\n",
    "# create two matricies, one for fitting the model (item-user) \n",
    "# and one for recommendations (user-item)\n",
    "\n",
    "sparse_item_user = sparse.csr_matrix((data['Weight'].astype(float), (data['page_id'], data['user_id'])))\n",
    "sparse_user_item = sparse.csr_matrix((data['Weight'].astype(float), (data['user_id'], data['page_id'])))"
   ]
  },
  {
   "cell_type": "code",
   "execution_count": 20,
   "metadata": {
    "scrolled": true
   },
   "outputs": [],
   "source": [
    "# Initialize the als model and fit it using the sparse item-user matrix\n",
    "os.environ['OPENBLAS_NUM_THREADS'] = '1'\n",
    "os.environ['MKL_NUM_THREADS'] = '1'\n",
    "model = implicit.als.AlternatingLeastSquares(factors=20, regularization=0.1, iterations=20)"
   ]
  },
  {
   "cell_type": "code",
   "execution_count": 21,
   "metadata": {},
   "outputs": [],
   "source": [
    "# Calculate the confidence by multiplying it by our alpha value.\n",
    "alpha_val = 15\n",
    "data_conf = (sparse_item_user * alpha_val).astype('double')\n"
   ]
  },
  {
   "cell_type": "code",
   "execution_count": 22,
   "metadata": {},
   "outputs": [
    {
     "name": "stderr",
     "output_type": "stream",
     "text": [
      "100%|█████████████████████████████████████████████████████████████████████████████████| 20/20 [00:00<00:00, 154.85it/s]\n"
     ]
    }
   ],
   "source": [
    "#Fit the model\n",
    "model.fit(data_conf)"
   ]
  },
  {
   "cell_type": "markdown",
   "metadata": {},
   "source": [
    "# Recommendation"
   ]
  },
  {
   "cell_type": "code",
   "execution_count": 23,
   "metadata": {
    "scrolled": true
   },
   "outputs": [
    {
     "data": {
      "text/html": [
       "<div>\n",
       "<style scoped>\n",
       "    .dataframe tbody tr th:only-of-type {\n",
       "        vertical-align: middle;\n",
       "    }\n",
       "\n",
       "    .dataframe tbody tr th {\n",
       "        vertical-align: top;\n",
       "    }\n",
       "\n",
       "    .dataframe thead th {\n",
       "        text-align: right;\n",
       "    }\n",
       "</style>\n",
       "<table border=\"1\" class=\"dataframe\">\n",
       "  <thead>\n",
       "    <tr style=\"text-align: right;\">\n",
       "      <th></th>\n",
       "      <th>page_id</th>\n",
       "      <th>article_id</th>\n",
       "      <th>title</th>\n",
       "    </tr>\n",
       "  </thead>\n",
       "  <tbody>\n",
       "    <tr>\n",
       "      <th>40</th>\n",
       "      <td>109</td>\n",
       "      <td>100211</td>\n",
       "      <td>Utilize all the available energy — Heat recovery</td>\n",
       "    </tr>\n",
       "  </tbody>\n",
       "</table>\n",
       "</div>"
      ],
      "text/plain": [
       "    page_id  article_id                                             title\n",
       "40      109      100211  Utilize all the available energy — Heat recovery"
      ]
     },
     "execution_count": 23,
     "metadata": {},
     "output_type": "execute_result"
    }
   ],
   "source": [
    "# page_lookup.head()\n",
    "page_lookup.loc[page_lookup['title'] == 'Utilize all the available energy — Heat recovery']"
   ]
  },
  {
   "cell_type": "code",
   "execution_count": 24,
   "metadata": {},
   "outputs": [
    {
     "data": {
      "text/html": [
       "<div>\n",
       "<style scoped>\n",
       "    .dataframe tbody tr th:only-of-type {\n",
       "        vertical-align: middle;\n",
       "    }\n",
       "\n",
       "    .dataframe tbody tr th {\n",
       "        vertical-align: top;\n",
       "    }\n",
       "\n",
       "    .dataframe thead th {\n",
       "        text-align: right;\n",
       "    }\n",
       "</style>\n",
       "<table border=\"1\" class=\"dataframe\">\n",
       "  <thead>\n",
       "    <tr style=\"text-align: right;\">\n",
       "      <th></th>\n",
       "      <th>user_id</th>\n",
       "      <th>page_id</th>\n",
       "      <th>Weight</th>\n",
       "    </tr>\n",
       "  </thead>\n",
       "  <tbody>\n",
       "    <tr>\n",
       "      <th>0</th>\n",
       "      <td>0</td>\n",
       "      <td>113</td>\n",
       "      <td>0.001891</td>\n",
       "    </tr>\n",
       "    <tr>\n",
       "      <th>1</th>\n",
       "      <td>1</td>\n",
       "      <td>65</td>\n",
       "      <td>0.290241</td>\n",
       "    </tr>\n",
       "    <tr>\n",
       "      <th>2</th>\n",
       "      <td>1</td>\n",
       "      <td>82</td>\n",
       "      <td>0.236517</td>\n",
       "    </tr>\n",
       "    <tr>\n",
       "      <th>3</th>\n",
       "      <td>1</td>\n",
       "      <td>83</td>\n",
       "      <td>0.118241</td>\n",
       "    </tr>\n",
       "    <tr>\n",
       "      <th>4</th>\n",
       "      <td>2</td>\n",
       "      <td>112</td>\n",
       "      <td>0.002100</td>\n",
       "    </tr>\n",
       "  </tbody>\n",
       "</table>\n",
       "</div>"
      ],
      "text/plain": [
       "   user_id  page_id    Weight\n",
       "0        0      113  0.001891\n",
       "1        1       65  0.290241\n",
       "2        1       82  0.236517\n",
       "3        1       83  0.118241\n",
       "4        2      112  0.002100"
      ]
     },
     "execution_count": 24,
     "metadata": {},
     "output_type": "execute_result"
    }
   ],
   "source": [
    "data.head()"
   ]
  },
  {
   "cell_type": "code",
   "execution_count": 25,
   "metadata": {
    "scrolled": true
   },
   "outputs": [
    {
     "ename": "ValueError",
     "evalue": "too many values to unpack (expected 2)",
     "output_type": "error",
     "traceback": [
      "\u001b[1;31m---------------------------------------------------------------------------\u001b[0m",
      "\u001b[1;31mValueError\u001b[0m                                Traceback (most recent call last)",
      "Cell \u001b[1;32mIn[25], line 14\u001b[0m\n\u001b[0;32m     12\u001b[0m \u001b[38;5;66;03m# Print the names of our most similar artists\u001b[39;00m\n\u001b[0;32m     13\u001b[0m \u001b[38;5;28;01mfor\u001b[39;00m item \u001b[38;5;129;01min\u001b[39;00m similar:\n\u001b[1;32m---> 14\u001b[0m     idx, score \u001b[38;5;241m=\u001b[39m item\n\u001b[0;32m     15\u001b[0m     \u001b[38;5;28mprint\u001b[39m(page_lookup\u001b[38;5;241m.\u001b[39mtitle\u001b[38;5;241m.\u001b[39mloc[page_lookup[\u001b[38;5;124m'\u001b[39m\u001b[38;5;124mpage_id\u001b[39m\u001b[38;5;124m'\u001b[39m] \u001b[38;5;241m==\u001b[39m idx]\u001b[38;5;241m.\u001b[39miloc[\u001b[38;5;241m0\u001b[39m])\n",
      "\u001b[1;31mValueError\u001b[0m: too many values to unpack (expected 2)"
     ]
    }
   ],
   "source": [
    "#---------------------\n",
    "# FIND SIMILAR ITEMS\n",
    "#---------------------\n",
    "\n",
    "# Find the 10 most similar articles to 'Utilize all the available energy — Heat recovery'\n",
    "item_id = 66\n",
    "n_similar = 10\n",
    "\n",
    "# Use implicit to get similar items.\n",
    "similar = model.similar_items(item_id, n_similar)\n",
    "\n",
    "# Print the names of our most similar artists\n",
    "for item in similar:\n",
    "    idx, score = item\n",
    "    print(page_lookup.title.loc[page_lookup['page_id'] == idx].iloc[0])"
   ]
  },
  {
   "cell_type": "code",
   "execution_count": 22,
   "metadata": {
    "scrolled": false
   },
   "outputs": [
    {
     "data": {
      "text/html": [
       "<div>\n",
       "<style scoped>\n",
       "    .dataframe tbody tr th:only-of-type {\n",
       "        vertical-align: middle;\n",
       "    }\n",
       "\n",
       "    .dataframe tbody tr th {\n",
       "        vertical-align: top;\n",
       "    }\n",
       "\n",
       "    .dataframe thead th {\n",
       "        text-align: right;\n",
       "    }\n",
       "</style>\n",
       "<table border=\"1\" class=\"dataframe\">\n",
       "  <thead>\n",
       "    <tr style=\"text-align: right;\">\n",
       "      <th></th>\n",
       "      <th>user_id</th>\n",
       "      <th>IPAddress</th>\n",
       "    </tr>\n",
       "  </thead>\n",
       "  <tbody>\n",
       "    <tr>\n",
       "      <th>0</th>\n",
       "      <td>0</td>\n",
       "      <td>0.253.137.182</td>\n",
       "    </tr>\n",
       "    <tr>\n",
       "      <th>1</th>\n",
       "      <td>1</td>\n",
       "      <td>0.87.65.250</td>\n",
       "    </tr>\n",
       "    <tr>\n",
       "      <th>4</th>\n",
       "      <td>2</td>\n",
       "      <td>1.110.29.103</td>\n",
       "    </tr>\n",
       "    <tr>\n",
       "      <th>5</th>\n",
       "      <td>3</td>\n",
       "      <td>1.244.13.175</td>\n",
       "    </tr>\n",
       "    <tr>\n",
       "      <th>7</th>\n",
       "      <td>4</td>\n",
       "      <td>10.62.16.174</td>\n",
       "    </tr>\n",
       "  </tbody>\n",
       "</table>\n",
       "</div>"
      ],
      "text/plain": [
       "   user_id      IPAddress\n",
       "0        0  0.253.137.182\n",
       "1        1    0.87.65.250\n",
       "4        2   1.110.29.103\n",
       "5        3   1.244.13.175\n",
       "7        4   10.62.16.174"
      ]
     },
     "execution_count": 22,
     "metadata": {},
     "output_type": "execute_result"
    }
   ],
   "source": [
    "# Preview of the Users in the database\n",
    "user_lookup.head()"
   ]
  },
  {
   "cell_type": "code",
   "execution_count": 23,
   "metadata": {},
   "outputs": [
    {
     "data": {
      "text/html": [
       "<div>\n",
       "<style scoped>\n",
       "    .dataframe tbody tr th:only-of-type {\n",
       "        vertical-align: middle;\n",
       "    }\n",
       "\n",
       "    .dataframe tbody tr th {\n",
       "        vertical-align: top;\n",
       "    }\n",
       "\n",
       "    .dataframe thead th {\n",
       "        text-align: right;\n",
       "    }\n",
       "</style>\n",
       "<table border=\"1\" class=\"dataframe\">\n",
       "  <thead>\n",
       "    <tr style=\"text-align: right;\">\n",
       "      <th></th>\n",
       "      <th>page_id</th>\n",
       "      <th>article_id</th>\n",
       "      <th>title</th>\n",
       "      <th>user_id</th>\n",
       "      <th>Weight</th>\n",
       "    </tr>\n",
       "  </thead>\n",
       "  <tbody>\n",
       "    <tr>\n",
       "      <th>0</th>\n",
       "      <td>29</td>\n",
       "      <td>100109</td>\n",
       "      <td>5 steps for a robust energy strategy</td>\n",
       "      <td>7</td>\n",
       "      <td>0.012806</td>\n",
       "    </tr>\n",
       "    <tr>\n",
       "      <th>1</th>\n",
       "      <td>75</td>\n",
       "      <td>100159</td>\n",
       "      <td>21st century energy management</td>\n",
       "      <td>7</td>\n",
       "      <td>0.012806</td>\n",
       "    </tr>\n",
       "    <tr>\n",
       "      <th>2</th>\n",
       "      <td>89</td>\n",
       "      <td>100175</td>\n",
       "      <td>Using Non-Energy Benefits to Build Better Business Cases</td>\n",
       "      <td>7</td>\n",
       "      <td>0.012806</td>\n",
       "    </tr>\n",
       "  </tbody>\n",
       "</table>\n",
       "</div>"
      ],
      "text/plain": [
       "   page_id  article_id  \\\n",
       "0       29      100109   \n",
       "1       75      100159   \n",
       "2       89      100175   \n",
       "\n",
       "                                                      title  user_id    Weight  \n",
       "0                      5 steps for a robust energy strategy        7  0.012806  \n",
       "1                            21st century energy management        7  0.012806  \n",
       "2  Using Non-Energy Benefits to Build Better Business Cases        7  0.012806  "
      ]
     },
     "execution_count": 23,
     "metadata": {},
     "output_type": "execute_result"
    }
   ],
   "source": [
    "# Preview of the viewing history for user id = 7\n",
    "\n",
    "pd.merge(page_lookup, data.loc[data['user_id'] == 7], on='page_id')"
   ]
  },
  {
   "cell_type": "code",
   "execution_count": 24,
   "metadata": {},
   "outputs": [],
   "source": [
    "#------------------------------\n",
    "# CREATE USER RECOMMENDATIONS\n",
    "#------------------------------\n",
    "\n",
    "# Create recommendations for user with id 7\n",
    "user_id = 7\n",
    "\n",
    "# Use the implicit recommender.\n",
    "recommended = model.recommend(user_id, sparse_user_item)\n",
    "\n",
    "articles = []\n",
    "scores = []\n",
    "\n",
    "# Get artist names from ids\n",
    "for item in recommended:\n",
    "    idx, score = item\n",
    "#     articles.append(page_lookup.title.loc[data.page_id.loc[data['page_id'] == idx]].iloc[0])\n",
    "    articles.append(page_lookup.title.loc[page_lookup['page_id'] == idx].iloc[0])\n",
    "    scores.append(score)"
   ]
  },
  {
   "cell_type": "code",
   "execution_count": 25,
   "metadata": {
    "scrolled": true
   },
   "outputs": [
    {
     "data": {
      "text/html": [
       "<div>\n",
       "<style scoped>\n",
       "    .dataframe tbody tr th:only-of-type {\n",
       "        vertical-align: middle;\n",
       "    }\n",
       "\n",
       "    .dataframe tbody tr th {\n",
       "        vertical-align: top;\n",
       "    }\n",
       "\n",
       "    .dataframe thead th {\n",
       "        text-align: right;\n",
       "    }\n",
       "</style>\n",
       "<table border=\"1\" class=\"dataframe\">\n",
       "  <thead>\n",
       "    <tr style=\"text-align: right;\">\n",
       "      <th></th>\n",
       "      <th>articles</th>\n",
       "      <th>score</th>\n",
       "    </tr>\n",
       "  </thead>\n",
       "  <tbody>\n",
       "    <tr>\n",
       "      <th>0</th>\n",
       "      <td>Where energy efficiency is really found is in the minds of men and women</td>\n",
       "      <td>0.248680</td>\n",
       "    </tr>\n",
       "    <tr>\n",
       "      <th>1</th>\n",
       "      <td>Depleting stupidity</td>\n",
       "      <td>0.048379</td>\n",
       "    </tr>\n",
       "    <tr>\n",
       "      <th>2</th>\n",
       "      <td>Strategic: Investing in industrial Energy Efficiency is a major decision</td>\n",
       "      <td>0.038169</td>\n",
       "    </tr>\n",
       "    <tr>\n",
       "      <th>3</th>\n",
       "      <td>De-risking energy efficiency projects: a market opportunity for project developers</td>\n",
       "      <td>0.028040</td>\n",
       "    </tr>\n",
       "    <tr>\n",
       "      <th>4</th>\n",
       "      <td>Evolution in energy efficiency financing</td>\n",
       "      <td>0.026780</td>\n",
       "    </tr>\n",
       "    <tr>\n",
       "      <th>5</th>\n",
       "      <td>Risk minimization for energy efficiency projects</td>\n",
       "      <td>0.023116</td>\n",
       "    </tr>\n",
       "    <tr>\n",
       "      <th>6</th>\n",
       "      <td>TOP 3 articles in Energy Efficiency fom the 2nd quarter of 2018</td>\n",
       "      <td>0.010293</td>\n",
       "    </tr>\n",
       "    <tr>\n",
       "      <th>7</th>\n",
       "      <td>Energy audit in SMEs could unlock great energy efficiency potential in Europe: a focus on the Italian model.</td>\n",
       "      <td>0.006440</td>\n",
       "    </tr>\n",
       "    <tr>\n",
       "      <th>8</th>\n",
       "      <td>The 4th Utility: Compressed Air</td>\n",
       "      <td>0.005980</td>\n",
       "    </tr>\n",
       "    <tr>\n",
       "      <th>9</th>\n",
       "      <td>FAQ - how the ICP process works for industry, district energy and street lighting</td>\n",
       "      <td>0.005424</td>\n",
       "    </tr>\n",
       "  </tbody>\n",
       "</table>\n",
       "</div>"
      ],
      "text/plain": [
       "                                                                                                       articles  \\\n",
       "0                                      Where energy efficiency is really found is in the minds of men and women   \n",
       "1                                                                                           Depleting stupidity   \n",
       "2                                      Strategic: Investing in industrial Energy Efficiency is a major decision   \n",
       "3                            De-risking energy efficiency projects: a market opportunity for project developers   \n",
       "4                                                                      Evolution in energy efficiency financing   \n",
       "5                                                              Risk minimization for energy efficiency projects   \n",
       "6                                               TOP 3 articles in Energy Efficiency fom the 2nd quarter of 2018   \n",
       "7  Energy audit in SMEs could unlock great energy efficiency potential in Europe: a focus on the Italian model.   \n",
       "8                                                                               The 4th Utility: Compressed Air   \n",
       "9                             FAQ - how the ICP process works for industry, district energy and street lighting   \n",
       "\n",
       "      score  \n",
       "0  0.248680  \n",
       "1  0.048379  \n",
       "2  0.038169  \n",
       "3  0.028040  \n",
       "4  0.026780  \n",
       "5  0.023116  \n",
       "6  0.010293  \n",
       "7  0.006440  \n",
       "8  0.005980  \n",
       "9  0.005424  "
      ]
     },
     "execution_count": 25,
     "metadata": {},
     "output_type": "execute_result"
    }
   ],
   "source": [
    "# Create a dataframe of artist names and scores\n",
    "recommendations = pd.DataFrame({'articles': articles, 'score': scores})\n",
    "\n",
    "recommendations"
   ]
  },
  {
   "cell_type": "code",
   "execution_count": null,
   "metadata": {},
   "outputs": [],
   "source": []
  }
 ],
 "metadata": {
  "kernelspec": {
   "display_name": "Python 3 (ipykernel)",
   "language": "python",
   "name": "python3"
  },
  "language_info": {
   "codemirror_mode": {
    "name": "ipython",
    "version": 3
   },
   "file_extension": ".py",
   "mimetype": "text/x-python",
   "name": "python",
   "nbconvert_exporter": "python",
   "pygments_lexer": "ipython3",
   "version": "3.10.9"
  }
 },
 "nbformat": 4,
 "nbformat_minor": 2
}
