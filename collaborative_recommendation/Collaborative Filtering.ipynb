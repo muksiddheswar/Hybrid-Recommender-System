{
 "cells": [
  {
   "cell_type": "markdown",
   "metadata": {},
   "source": [
    "# Collaborative Filtering"
   ]
  },
  {
   "cell_type": "markdown",
   "metadata": {},
   "source": [
    "Collaborative recommendation using Implicit ALS algorithm.   \n",
    "Data source: Enriched url Data "
   ]
  },
  {
   "cell_type": "code",
   "execution_count": 1,
   "metadata": {},
   "outputs": [],
   "source": [
    "import re\n",
    "import os\n",
    "import math\n",
    "\n",
    "import sys\n",
    "import pandas as pd\n",
    "import numpy as np\n",
    "import scipy.sparse as sparse\n",
    "from scipy.sparse.linalg import spsolve\n",
    "import random\n",
    "\n",
    "from sklearn.preprocessing import MinMaxScaler\n",
    "\n",
    "import implicit"
   ]
  },
  {
   "cell_type": "markdown",
   "metadata": {},
   "source": [
    "# Preprocessing"
   ]
  },
  {
   "cell_type": "markdown",
   "metadata": {},
   "source": [
    "## Importing Article Master for Article Lookup"
   ]
  },
  {
   "cell_type": "code",
   "execution_count": 2,
   "metadata": {
    "scrolled": true
   },
   "outputs": [],
   "source": [
    "article_master= pd.read_csv(r'./URL_to_Article/URL_ArticleID_cHash_mapping.csv', sep=';')\n",
    "article_master['reduced_title'] = article_master.apply(lambda row: re.sub('[^A-Za-z0-9]+', '', row.title.lower()), axis = 1)\n"
   ]
  },
  {
   "cell_type": "code",
   "execution_count": 3,
   "metadata": {
    "scrolled": true
   },
   "outputs": [
    {
     "data": {
      "text/html": [
       "<div>\n",
       "<style scoped>\n",
       "    .dataframe tbody tr th:only-of-type {\n",
       "        vertical-align: middle;\n",
       "    }\n",
       "\n",
       "    .dataframe tbody tr th {\n",
       "        vertical-align: top;\n",
       "    }\n",
       "\n",
       "    .dataframe thead th {\n",
       "        text-align: right;\n",
       "    }\n",
       "</style>\n",
       "<table border=\"1\" class=\"dataframe\">\n",
       "  <thead>\n",
       "    <tr style=\"text-align: right;\">\n",
       "      <th></th>\n",
       "      <th>article_id</th>\n",
       "      <th>title</th>\n",
       "    </tr>\n",
       "  </thead>\n",
       "  <tbody>\n",
       "    <tr>\n",
       "      <th>0</th>\n",
       "      <td>12</td>\n",
       "      <td>Bridging the industrial heat divide</td>\n",
       "    </tr>\n",
       "    <tr>\n",
       "      <th>1</th>\n",
       "      <td>20</td>\n",
       "      <td>EUSEW 2016 - energy efficiency awards</td>\n",
       "    </tr>\n",
       "    <tr>\n",
       "      <th>2</th>\n",
       "      <td>21</td>\n",
       "      <td>How much can energy management actually save?</td>\n",
       "    </tr>\n",
       "    <tr>\n",
       "      <th>4</th>\n",
       "      <td>22</td>\n",
       "      <td>All eyes on China’s 13th Five-Year Plan for energy</td>\n",
       "    </tr>\n",
       "    <tr>\n",
       "      <th>7</th>\n",
       "      <td>23</td>\n",
       "      <td>EEIP at Turkish Energy Efficiency Week</td>\n",
       "    </tr>\n",
       "  </tbody>\n",
       "</table>\n",
       "</div>"
      ],
      "text/plain": [
       "   article_id                                               title\n",
       "0          12                 Bridging the industrial heat divide\n",
       "1          20               EUSEW 2016 - energy efficiency awards\n",
       "2          21       How much can energy management actually save?\n",
       "4          22  All eyes on China’s 13th Five-Year Plan for energy\n",
       "7          23              EEIP at Turkish Energy Efficiency Week"
      ]
     },
     "execution_count": 3,
     "metadata": {},
     "output_type": "execute_result"
    }
   ],
   "source": [
    "article_lookup_ID = article_master.loc[:,['article_id', 'title', 'reduced_title']]\n",
    "article_lookup_ID = article_lookup_ID.drop_duplicates(['article_id', 'reduced_title'], keep='first')\n",
    "article_lookup_ID = article_lookup_ID.drop(['reduced_title'], axis = 1)\n",
    "pd.set_option('display.max_colwidth', 200)\n",
    "article_lookup_ID.head()"
   ]
  },
  {
   "cell_type": "markdown",
   "metadata": {},
   "source": [
    "## Importing Interaction and processing "
   ]
  },
  {
   "cell_type": "code",
   "execution_count": 4,
   "metadata": {},
   "outputs": [],
   "source": [
    "raw_interaction = pd.read_csv(r'./Enriched_data/new__report-5670-20190711132352.csv')\n",
    "raw_interaction = raw_interaction.loc[:,['IP Address', 'Entry Page', 'Page Visits', 'Visit Duration']]"
   ]
  },
  {
   "cell_type": "code",
   "execution_count": 5,
   "metadata": {},
   "outputs": [],
   "source": [
    "# pd.set_option('max_colwidth', 100)\n",
    "page_visit_url = raw_interaction[\"Page Visits\"].str.split(\"-->\", expand=True)\n",
    "page_count = pd.DataFrame(page_visit_url.apply(lambda x: x.count(), axis=1))\n",
    "page_count = page_count.rename(columns= {0: 'Page Count'})\n",
    "page_visit_url = raw_interaction['Entry Page'].to_frame().join(page_visit_url)"
   ]
  },
  {
   "cell_type": "code",
   "execution_count": 6,
   "metadata": {},
   "outputs": [],
   "source": [
    "flag = pd.DataFrame(np.zeros((len(page_visit_url), 1)))\n",
    "flag = flag.rename(columns= {0: 'Flag'})"
   ]
  },
  {
   "cell_type": "markdown",
   "metadata": {},
   "source": [
    "## Converting URLs to ArticleID"
   ]
  },
  {
   "cell_type": "code",
   "execution_count": 7,
   "metadata": {},
   "outputs": [],
   "source": [
    "# Returns ArticleID from for the URL\n",
    "# Returns 0 if \n",
    "#     1. URL starts with www2.\n",
    "#     2. Article not found.\n",
    "\n",
    "def urls_to_id(url):\n",
    "    \n",
    "    if url is None or (isinstance(url, float) and  math.isnan(url)):\n",
    "        return 0\n",
    "    \n",
    "    #   Remove www. header from the URL\n",
    "    if url[0:4] == 'www.':\n",
    "        url = url[4:]\n",
    "        \n",
    "    #   If URL starts with www2. return 0.\n",
    "    if url[0:5] == 'www2.':\n",
    "        return 0\n",
    "    \n",
    "    url_tokens = url.split(\"/\")\n",
    "    \n",
    "    #   If URL is not an article return 0\n",
    "    if len(url_tokens) < 5:\n",
    "        return 0\n",
    "    if url_tokens[1]!= 'articles':\n",
    "        return 0 \n",
    "    \n",
    "    \n",
    "    #   If URL is an article return the article name\n",
    "    token4 = url_tokens[3]\n",
    "    token5 = url_tokens[4]\n",
    "    \n",
    "    #     If token4 not blank then it must be the article name or the cHash\n",
    "    if token4 != '':\n",
    "        \n",
    "        #   Assuming that the 4th token is the cHash\n",
    "        search_cHash_rows = article_master.loc[article_master['cHash'] == token4]\n",
    "        \n",
    "        #   if no match found in the cHash column\n",
    "        #   Then token4 is the article name and so token5 is the cHash\n",
    "        if len(search_cHash_rows) < 1:\n",
    "            search_cHash_rows = article_master.loc[article_master['cHash'] == token4]\n",
    "                \n",
    "        #   Return ArticleID if exact match found with cHash\n",
    "        if len(search_cHash_rows) == 1: \n",
    "            return int(search_cHash_rows['article_id'])\n",
    "        \n",
    "        #   Return the fist ArticleID if multiple articles found\n",
    "        #   This is because cHash and articles have a one-to-one matching\n",
    "        if len(search_cHash_rows) > 1: \n",
    "            return int(search_cHash_rows.loc[search_cHash_rows.index[0], 'article_id'])\n",
    "        \n",
    "        #   Return 0 by default if none of the cases match\n",
    "        return 0\n",
    "        \n",
    "    \n",
    "    #     If token4 blank then token5 must be the article name\n",
    "    else:\n",
    "        #   removing spaces and punctuations from the URL article name\n",
    "        article_name = (re.sub('[A-Za-z0-9]+', '', token5)).lower()\n",
    "        \n",
    "        #   Pattern searching on title since the URL might not have the full article name\n",
    "        #   This also takes care if the situation in which multiple articles have similar titles       \n",
    "        search_article_name_rows = article_master[article_master['reduced_title'].str.contains(article_name)]\n",
    "        \n",
    "        #   Return ArticleID if match found with article_name\n",
    "        if len(search_article_name_rows) == 1: \n",
    "            return int(search_article_name_rows['article_id'])\n",
    "        \n",
    "        #   If multiple rows found assume that all rows point to the same article\n",
    "        #   return the article_id of the first row\n",
    "        if len(search_article_name_rows) < 1: \n",
    "            return int(search_article_name_rows['article_id'][0])\n",
    "        \n",
    "        #   Return 0 by default if none of the cases match\n",
    "        return 0\n",
    "        "
   ]
  },
  {
   "cell_type": "code",
   "execution_count": 8,
   "metadata": {},
   "outputs": [],
   "source": [
    "# Flag value notes if the row has any article pages\n",
    "# If not then flag for that row is 0\n",
    "\n",
    "cols = list(page_visit_url)\n",
    "url_article_id_list = []\n",
    "for i in range(len(page_visit_url)):\n",
    "    url_article_id_list.append([])\n",
    "    \n",
    "    for j in list(page_visit_url):\n",
    "        article_id = urls_to_id(page_visit_url[j][i])\n",
    "        \n",
    "        #  If the PageVisit1 ID is the same as EntryPage ID, then put PageVisit1 as 0\n",
    "        if j == 0 and url_article_id_list[-1][-1] == article_id:            \n",
    "            url_article_id_list[-1].append(0)\n",
    "        \n",
    "        else:\n",
    "            url_article_id_list[-1].append(urls_to_id(page_visit_url[j][i]))\n",
    "            \n",
    "        if url_article_id_list[-1][-1] != 0:\n",
    "            flag['Flag'][i] +=1 \n",
    "\n",
    "\n",
    "# url_article_id_list\n",
    "page_visit_id = pd.DataFrame(url_article_id_list, columns = cols)"
   ]
  },
  {
   "cell_type": "markdown",
   "metadata": {},
   "source": [
    "## Creating final dataframe"
   ]
  },
  {
   "cell_type": "code",
   "execution_count": 9,
   "metadata": {},
   "outputs": [],
   "source": [
    "srt = page_visit_id.iloc[:,0:len(cols)].apply(lambda x: \",\".join(x.astype(str)), axis=1)\n",
    "new_interaction = raw_interaction.loc[:, ~raw_interaction.columns.isin(['Entry Page','Page Visits'])].join(pd.DataFrame(srt))\n",
    "new_interaction = new_interaction.rename(columns= {0: 'Pages'})\n",
    "new_interaction = new_interaction.join(flag)\n",
    "new_interaction = new_interaction.join(page_count)"
   ]
  },
  {
   "cell_type": "code",
   "execution_count": 10,
   "metadata": {},
   "outputs": [],
   "source": [
    "new_interaction = new_interaction.dropna(subset=['Visit Duration'])\n",
    "new_interaction = new_interaction[new_interaction['Visit Duration'] > 0]\n",
    "new_interaction = new_interaction[new_interaction['Flag'] > 0]\n",
    "new_interaction = new_interaction.reset_index(drop = True)\n"
   ]
  },
  {
   "cell_type": "code",
   "execution_count": 11,
   "metadata": {},
   "outputs": [],
   "source": [
    "# cols = ['IPAddress', 'Page', 'Weight']\n",
    "data_list = []\n",
    "for i in range(len(new_interaction)):\n",
    "    ip = (new_interaction.loc[i,['IP Address']]).item()\n",
    "    duration = float(new_interaction.loc[i,['Visit Duration']])\n",
    "    count = float(new_interaction.loc[i,['Page Count']])\n",
    "    stay_count = duration / count\n",
    "    \n",
    "    pages = new_interaction.loc[i,['Pages']]\n",
    "    for i in (pages.item()).split(','):\n",
    "        if(i != '0'):\n",
    "            data_list.append([ip, i, stay_count])\n",
    "            \n",
    "            \n",
    "data = pd.DataFrame(data_list, columns = ['IPAddress', 'Page', 'Weight'])"
   ]
  },
  {
   "cell_type": "code",
   "execution_count": 12,
   "metadata": {
    "scrolled": true
   },
   "outputs": [
    {
     "data": {
      "text/html": [
       "<div>\n",
       "<style scoped>\n",
       "    .dataframe tbody tr th:only-of-type {\n",
       "        vertical-align: middle;\n",
       "    }\n",
       "\n",
       "    .dataframe tbody tr th {\n",
       "        vertical-align: top;\n",
       "    }\n",
       "\n",
       "    .dataframe thead th {\n",
       "        text-align: right;\n",
       "    }\n",
       "</style>\n",
       "<table border=\"1\" class=\"dataframe\">\n",
       "  <thead>\n",
       "    <tr style=\"text-align: right;\">\n",
       "      <th></th>\n",
       "      <th>IPAddress</th>\n",
       "      <th>Page</th>\n",
       "      <th>Weight</th>\n",
       "    </tr>\n",
       "  </thead>\n",
       "  <tbody>\n",
       "    <tr>\n",
       "      <th>0</th>\n",
       "      <td>103.218.216.126</td>\n",
       "      <td>100113</td>\n",
       "      <td>0.379572</td>\n",
       "    </tr>\n",
       "    <tr>\n",
       "      <th>1</th>\n",
       "      <td>103.218.230.194</td>\n",
       "      <td>100135</td>\n",
       "      <td>0.083675</td>\n",
       "    </tr>\n",
       "    <tr>\n",
       "      <th>2</th>\n",
       "      <td>103.224.105.10</td>\n",
       "      <td>53</td>\n",
       "      <td>0.016155</td>\n",
       "    </tr>\n",
       "    <tr>\n",
       "      <th>3</th>\n",
       "      <td>103.25.120.134</td>\n",
       "      <td>100132</td>\n",
       "      <td>0.071493</td>\n",
       "    </tr>\n",
       "    <tr>\n",
       "      <th>4</th>\n",
       "      <td>103.73.96.150</td>\n",
       "      <td>100097</td>\n",
       "      <td>0.001579</td>\n",
       "    </tr>\n",
       "  </tbody>\n",
       "</table>\n",
       "</div>"
      ],
      "text/plain": [
       "         IPAddress    Page    Weight\n",
       "0  103.218.216.126  100113  0.379572\n",
       "1  103.218.230.194  100135  0.083675\n",
       "2   103.224.105.10      53  0.016155\n",
       "3   103.25.120.134  100132  0.071493\n",
       "4    103.73.96.150  100097  0.001579"
      ]
     },
     "execution_count": 12,
     "metadata": {},
     "output_type": "execute_result"
    }
   ],
   "source": [
    "data = data.groupby(['IPAddress', 'Page']).sum().reset_index()\n",
    "data['Weight'] = (data['Weight'] - data['Weight'].min())/(data['Weight'].max() - data['Weight'].min())\n",
    "data.head()"
   ]
  },
  {
   "cell_type": "code",
   "execution_count": 13,
   "metadata": {},
   "outputs": [],
   "source": [
    "data['user_id'] = data['IPAddress'].astype(\"category\").cat.codes\n",
    "data['page_id'] = data['Page'].astype(\"category\").cat.codes\n",
    "\n",
    "user_lookup = data[['user_id', 'IPAddress']].drop_duplicates()\n",
    "\n",
    "page_lookup = data[['page_id', 'Page']].drop_duplicates()\n",
    "page_lookup['Page'] = page_lookup['Page'].astype('int64')\n",
    "page_lookup = pd.merge(page_lookup, article_lookup_ID, how='inner', left_on = 'Page', right_on = 'article_id')\n",
    "page_lookup = page_lookup.drop(['Page'], axis = 1)\n",
    "\n",
    "\n",
    "\n",
    "data = data.drop(['IPAddress', 'Page'], axis = 1)"
   ]
  },
  {
   "cell_type": "code",
   "execution_count": 14,
   "metadata": {
    "scrolled": false
   },
   "outputs": [
    {
     "data": {
      "text/html": [
       "<div>\n",
       "<style scoped>\n",
       "    .dataframe tbody tr th:only-of-type {\n",
       "        vertical-align: middle;\n",
       "    }\n",
       "\n",
       "    .dataframe tbody tr th {\n",
       "        vertical-align: top;\n",
       "    }\n",
       "\n",
       "    .dataframe thead th {\n",
       "        text-align: right;\n",
       "    }\n",
       "</style>\n",
       "<table border=\"1\" class=\"dataframe\">\n",
       "  <thead>\n",
       "    <tr style=\"text-align: right;\">\n",
       "      <th></th>\n",
       "      <th>user_id</th>\n",
       "      <th>page_id</th>\n",
       "      <th>Weight</th>\n",
       "    </tr>\n",
       "  </thead>\n",
       "  <tbody>\n",
       "    <tr>\n",
       "      <th>0</th>\n",
       "      <td>0</td>\n",
       "      <td>33</td>\n",
       "      <td>0.379572</td>\n",
       "    </tr>\n",
       "    <tr>\n",
       "      <th>1</th>\n",
       "      <td>1</td>\n",
       "      <td>53</td>\n",
       "      <td>0.083675</td>\n",
       "    </tr>\n",
       "    <tr>\n",
       "      <th>2</th>\n",
       "      <td>2</td>\n",
       "      <td>120</td>\n",
       "      <td>0.016155</td>\n",
       "    </tr>\n",
       "    <tr>\n",
       "      <th>3</th>\n",
       "      <td>3</td>\n",
       "      <td>50</td>\n",
       "      <td>0.071493</td>\n",
       "    </tr>\n",
       "    <tr>\n",
       "      <th>4</th>\n",
       "      <td>4</td>\n",
       "      <td>21</td>\n",
       "      <td>0.001579</td>\n",
       "    </tr>\n",
       "  </tbody>\n",
       "</table>\n",
       "</div>"
      ],
      "text/plain": [
       "   user_id  page_id    Weight\n",
       "0        0       33  0.379572\n",
       "1        1       53  0.083675\n",
       "2        2      120  0.016155\n",
       "3        3       50  0.071493\n",
       "4        4       21  0.001579"
      ]
     },
     "execution_count": 14,
     "metadata": {},
     "output_type": "execute_result"
    }
   ],
   "source": [
    "data = data[['user_id', 'page_id', 'Weight']]\n",
    "data.head()"
   ]
  },
  {
   "cell_type": "markdown",
   "metadata": {},
   "source": [
    "# Model Creation and Fitting"
   ]
  },
  {
   "cell_type": "code",
   "execution_count": 15,
   "metadata": {},
   "outputs": [],
   "source": [
    "# The implicit library expects data as a item-user matrix so we\n",
    "# create two matricies, one for fitting the model (item-user) \n",
    "# and one for recommendations (user-item)\n",
    "\n",
    "sparse_item_user = sparse.csr_matrix((data['Weight'].astype(float), (data['page_id'], data['user_id'])))\n",
    "sparse_user_item = sparse.csr_matrix((data['Weight'].astype(float), (data['user_id'], data['page_id'])))"
   ]
  },
  {
   "cell_type": "code",
   "execution_count": 16,
   "metadata": {
    "scrolled": true
   },
   "outputs": [],
   "source": [
    "# Initialize the als model and fit it using the sparse item-user matrix\n",
    "os.environ['OPENBLAS_NUM_THREADS'] = '1'\n",
    "os.environ['MKL_NUM_THREADS'] = '1'\n",
    "model = implicit.als.AlternatingLeastSquares(factors=20, regularization=0.1, iterations=20)"
   ]
  },
  {
   "cell_type": "code",
   "execution_count": 17,
   "metadata": {},
   "outputs": [],
   "source": [
    "# Calculate the confidence by multiplying it by our alpha value.\n",
    "alpha_val = 15\n",
    "data_conf = (sparse_item_user * alpha_val).astype('double')\n"
   ]
  },
  {
   "cell_type": "code",
   "execution_count": 18,
   "metadata": {},
   "outputs": [
    {
     "name": "stderr",
     "output_type": "stream",
     "text": [
      "100%|██████████████████████████████████████████████████████████████████████████████| 20.0/20 [00:00<00:00, 1862.89it/s]\n"
     ]
    }
   ],
   "source": [
    "#Fit the model\n",
    "model.fit(data_conf)"
   ]
  },
  {
   "cell_type": "markdown",
   "metadata": {},
   "source": [
    "# Recommendation"
   ]
  },
  {
   "cell_type": "code",
   "execution_count": 19,
   "metadata": {
    "scrolled": true
   },
   "outputs": [
    {
     "data": {
      "text/html": [
       "<div>\n",
       "<style scoped>\n",
       "    .dataframe tbody tr th:only-of-type {\n",
       "        vertical-align: middle;\n",
       "    }\n",
       "\n",
       "    .dataframe tbody tr th {\n",
       "        vertical-align: top;\n",
       "    }\n",
       "\n",
       "    .dataframe thead th {\n",
       "        text-align: right;\n",
       "    }\n",
       "</style>\n",
       "<table border=\"1\" class=\"dataframe\">\n",
       "  <thead>\n",
       "    <tr style=\"text-align: right;\">\n",
       "      <th></th>\n",
       "      <th>page_id</th>\n",
       "      <th>article_id</th>\n",
       "      <th>title</th>\n",
       "    </tr>\n",
       "  </thead>\n",
       "  <tbody>\n",
       "    <tr>\n",
       "      <th>66</th>\n",
       "      <td>109</td>\n",
       "      <td>100211</td>\n",
       "      <td>Utilize all the available energy — Heat recovery</td>\n",
       "    </tr>\n",
       "  </tbody>\n",
       "</table>\n",
       "</div>"
      ],
      "text/plain": [
       "    page_id  article_id                                             title\n",
       "66      109      100211  Utilize all the available energy — Heat recovery"
      ]
     },
     "execution_count": 19,
     "metadata": {},
     "output_type": "execute_result"
    }
   ],
   "source": [
    "# page_lookup.head()\n",
    "page_lookup.loc[page_lookup['title'] == 'Utilize all the available energy — Heat recovery']"
   ]
  },
  {
   "cell_type": "code",
   "execution_count": 20,
   "metadata": {},
   "outputs": [
    {
     "data": {
      "text/html": [
       "<div>\n",
       "<style scoped>\n",
       "    .dataframe tbody tr th:only-of-type {\n",
       "        vertical-align: middle;\n",
       "    }\n",
       "\n",
       "    .dataframe tbody tr th {\n",
       "        vertical-align: top;\n",
       "    }\n",
       "\n",
       "    .dataframe thead th {\n",
       "        text-align: right;\n",
       "    }\n",
       "</style>\n",
       "<table border=\"1\" class=\"dataframe\">\n",
       "  <thead>\n",
       "    <tr style=\"text-align: right;\">\n",
       "      <th></th>\n",
       "      <th>user_id</th>\n",
       "      <th>page_id</th>\n",
       "      <th>Weight</th>\n",
       "    </tr>\n",
       "  </thead>\n",
       "  <tbody>\n",
       "    <tr>\n",
       "      <th>0</th>\n",
       "      <td>0</td>\n",
       "      <td>33</td>\n",
       "      <td>0.379572</td>\n",
       "    </tr>\n",
       "    <tr>\n",
       "      <th>1</th>\n",
       "      <td>1</td>\n",
       "      <td>53</td>\n",
       "      <td>0.083675</td>\n",
       "    </tr>\n",
       "    <tr>\n",
       "      <th>2</th>\n",
       "      <td>2</td>\n",
       "      <td>120</td>\n",
       "      <td>0.016155</td>\n",
       "    </tr>\n",
       "    <tr>\n",
       "      <th>3</th>\n",
       "      <td>3</td>\n",
       "      <td>50</td>\n",
       "      <td>0.071493</td>\n",
       "    </tr>\n",
       "    <tr>\n",
       "      <th>4</th>\n",
       "      <td>4</td>\n",
       "      <td>21</td>\n",
       "      <td>0.001579</td>\n",
       "    </tr>\n",
       "  </tbody>\n",
       "</table>\n",
       "</div>"
      ],
      "text/plain": [
       "   user_id  page_id    Weight\n",
       "0        0       33  0.379572\n",
       "1        1       53  0.083675\n",
       "2        2      120  0.016155\n",
       "3        3       50  0.071493\n",
       "4        4       21  0.001579"
      ]
     },
     "execution_count": 20,
     "metadata": {},
     "output_type": "execute_result"
    }
   ],
   "source": [
    "data.head()"
   ]
  },
  {
   "cell_type": "code",
   "execution_count": 21,
   "metadata": {
    "scrolled": true
   },
   "outputs": [
    {
     "name": "stdout",
     "output_type": "stream",
     "text": [
      "IoT - Equipped LED lighting systems enhance Energy Efficiency\n",
      "Raising the priority for industrial energy efficiency\n",
      "Roundtable on Financing Industrial Energy Efficiency, October 19th\n",
      "Electric Vehicles & Heat Pumps: Electric motors play a crucial role in the energy transition\n",
      "Ireland’s new Renewable Energy Support Scheme (RESS) design\n",
      "EU research & innovation tout court\n",
      "We accelerate the Energy Transition.\n",
      "ICP – the way financial institutions can make fighting climate change a business case\n",
      "Turkey: Industrial energy efficiency strategy\n",
      "Europe must choose a green future\n"
     ]
    }
   ],
   "source": [
    "#---------------------\n",
    "# FIND SIMILAR ITEMS\n",
    "#---------------------\n",
    "\n",
    "# Find the 10 most similar articles to 'Utilize all the available energy — Heat recovery'\n",
    "item_id = 66\n",
    "n_similar = 10\n",
    "\n",
    "# Use implicit to get similar items.\n",
    "similar = model.similar_items(item_id, n_similar)\n",
    "\n",
    "# Print the names of our most similar artists\n",
    "for item in similar:\n",
    "    idx, score = item\n",
    "    print(page_lookup.title.loc[page_lookup['page_id'] == idx].iloc[0])"
   ]
  },
  {
   "cell_type": "code",
   "execution_count": 22,
   "metadata": {
    "scrolled": false
   },
   "outputs": [
    {
     "data": {
      "text/html": [
       "<div>\n",
       "<style scoped>\n",
       "    .dataframe tbody tr th:only-of-type {\n",
       "        vertical-align: middle;\n",
       "    }\n",
       "\n",
       "    .dataframe tbody tr th {\n",
       "        vertical-align: top;\n",
       "    }\n",
       "\n",
       "    .dataframe thead th {\n",
       "        text-align: right;\n",
       "    }\n",
       "</style>\n",
       "<table border=\"1\" class=\"dataframe\">\n",
       "  <thead>\n",
       "    <tr style=\"text-align: right;\">\n",
       "      <th></th>\n",
       "      <th>user_id</th>\n",
       "      <th>IPAddress</th>\n",
       "    </tr>\n",
       "  </thead>\n",
       "  <tbody>\n",
       "    <tr>\n",
       "      <th>0</th>\n",
       "      <td>0</td>\n",
       "      <td>103.218.216.126</td>\n",
       "    </tr>\n",
       "    <tr>\n",
       "      <th>1</th>\n",
       "      <td>1</td>\n",
       "      <td>103.218.230.194</td>\n",
       "    </tr>\n",
       "    <tr>\n",
       "      <th>2</th>\n",
       "      <td>2</td>\n",
       "      <td>103.224.105.10</td>\n",
       "    </tr>\n",
       "    <tr>\n",
       "      <th>3</th>\n",
       "      <td>3</td>\n",
       "      <td>103.25.120.134</td>\n",
       "    </tr>\n",
       "    <tr>\n",
       "      <th>4</th>\n",
       "      <td>4</td>\n",
       "      <td>103.73.96.150</td>\n",
       "    </tr>\n",
       "  </tbody>\n",
       "</table>\n",
       "</div>"
      ],
      "text/plain": [
       "   user_id        IPAddress\n",
       "0        0  103.218.216.126\n",
       "1        1  103.218.230.194\n",
       "2        2   103.224.105.10\n",
       "3        3   103.25.120.134\n",
       "4        4    103.73.96.150"
      ]
     },
     "execution_count": 22,
     "metadata": {},
     "output_type": "execute_result"
    }
   ],
   "source": [
    "# Preview of the Users in the database\n",
    "user_lookup.head()"
   ]
  },
  {
   "cell_type": "code",
   "execution_count": 23,
   "metadata": {},
   "outputs": [
    {
     "data": {
      "text/html": [
       "<div>\n",
       "<style scoped>\n",
       "    .dataframe tbody tr th:only-of-type {\n",
       "        vertical-align: middle;\n",
       "    }\n",
       "\n",
       "    .dataframe tbody tr th {\n",
       "        vertical-align: top;\n",
       "    }\n",
       "\n",
       "    .dataframe thead th {\n",
       "        text-align: right;\n",
       "    }\n",
       "</style>\n",
       "<table border=\"1\" class=\"dataframe\">\n",
       "  <thead>\n",
       "    <tr style=\"text-align: right;\">\n",
       "      <th></th>\n",
       "      <th>page_id</th>\n",
       "      <th>article_id</th>\n",
       "      <th>title</th>\n",
       "      <th>user_id</th>\n",
       "      <th>Weight</th>\n",
       "    </tr>\n",
       "  </thead>\n",
       "  <tbody>\n",
       "    <tr>\n",
       "      <th>0</th>\n",
       "      <td>111</td>\n",
       "      <td>100214</td>\n",
       "      <td>“Simply not enough”</td>\n",
       "      <td>7</td>\n",
       "      <td>0.000526</td>\n",
       "    </tr>\n",
       "    <tr>\n",
       "      <th>1</th>\n",
       "      <td>63</td>\n",
       "      <td>100146</td>\n",
       "      <td>You've got a friend</td>\n",
       "      <td>7</td>\n",
       "      <td>0.000526</td>\n",
       "    </tr>\n",
       "    <tr>\n",
       "      <th>2</th>\n",
       "      <td>81</td>\n",
       "      <td>100165</td>\n",
       "      <td>Message to the investor community: Be that ‘bridge over troubled water’</td>\n",
       "      <td>7</td>\n",
       "      <td>0.000526</td>\n",
       "    </tr>\n",
       "    <tr>\n",
       "      <th>3</th>\n",
       "      <td>83</td>\n",
       "      <td>100167</td>\n",
       "      <td>Risk minimization for energy efficiency projects</td>\n",
       "      <td>7</td>\n",
       "      <td>0.000526</td>\n",
       "    </tr>\n",
       "    <tr>\n",
       "      <th>4</th>\n",
       "      <td>103</td>\n",
       "      <td>100205</td>\n",
       "      <td>The Times Are A-Changin’</td>\n",
       "      <td>7</td>\n",
       "      <td>0.000528</td>\n",
       "    </tr>\n",
       "    <tr>\n",
       "      <th>5</th>\n",
       "      <td>112</td>\n",
       "      <td>100215</td>\n",
       "      <td>More than Ronaldo - How 5 innovative Portuguese companies drive energy efficiency</td>\n",
       "      <td>7</td>\n",
       "      <td>0.000526</td>\n",
       "    </tr>\n",
       "  </tbody>\n",
       "</table>\n",
       "</div>"
      ],
      "text/plain": [
       "   page_id  article_id  \\\n",
       "0      111      100214   \n",
       "1       63      100146   \n",
       "2       81      100165   \n",
       "3       83      100167   \n",
       "4      103      100205   \n",
       "5      112      100215   \n",
       "\n",
       "                                                                               title  \\\n",
       "0                                                                “Simply not enough”   \n",
       "1                                                                You've got a friend   \n",
       "2            Message to the investor community: Be that ‘bridge over troubled water’   \n",
       "3                                   Risk minimization for energy efficiency projects   \n",
       "4                                                           The Times Are A-Changin’   \n",
       "5  More than Ronaldo - How 5 innovative Portuguese companies drive energy efficiency   \n",
       "\n",
       "   user_id    Weight  \n",
       "0        7  0.000526  \n",
       "1        7  0.000526  \n",
       "2        7  0.000526  \n",
       "3        7  0.000526  \n",
       "4        7  0.000528  \n",
       "5        7  0.000526  "
      ]
     },
     "execution_count": 23,
     "metadata": {},
     "output_type": "execute_result"
    }
   ],
   "source": [
    "# Preview of the viewing history for user id = 7\n",
    "\n",
    "pd.merge(page_lookup, data.loc[data['user_id'] == 7], on='page_id')"
   ]
  },
  {
   "cell_type": "code",
   "execution_count": 24,
   "metadata": {},
   "outputs": [],
   "source": [
    "#------------------------------\n",
    "# CREATE USER RECOMMENDATIONS\n",
    "#------------------------------\n",
    "\n",
    "# Create recommendations for user with id 7\n",
    "user_id = 7\n",
    "\n",
    "# Use the implicit recommender.\n",
    "recommended = model.recommend(user_id, sparse_user_item)\n",
    "\n",
    "articles = []\n",
    "scores = []\n",
    "\n",
    "# Get artist names from ids\n",
    "for item in recommended:\n",
    "    idx, score = item\n",
    "#     articles.append(page_lookup.title.loc[data.page_id.loc[data['page_id'] == idx]].iloc[0])\n",
    "    articles.append(page_lookup.title.loc[page_lookup['page_id'] == idx].iloc[0])\n",
    "    scores.append(score)"
   ]
  },
  {
   "cell_type": "code",
   "execution_count": null,
   "metadata": {},
   "outputs": [],
   "source": []
  },
  {
   "cell_type": "code",
   "execution_count": 25,
   "metadata": {},
   "outputs": [],
   "source": [
    "# #------------------------------\n",
    "# # CREATE USER RECOMMENDATIONS\n",
    "# #------------------------------\n",
    "\n",
    "# # Create recommendations for user with id 7\n",
    "# user_id = 7\n",
    "\n",
    "# # Use the implicit recommender.\n",
    "# recommended = model.recommend(user_id, sparse_user_item)\n",
    "\n",
    "# articles = []\n",
    "# scores = []\n",
    "\n",
    "# # Get artist names from ids\n",
    "# for item in recommended:\n",
    "#     idx, score = item\n",
    "#     articles.append(page_lookup.title.loc[data.page_id.loc[data['page_id'] == idx]].iloc[0])\n",
    "#     scores.append(score)"
   ]
  },
  {
   "cell_type": "code",
   "execution_count": 26,
   "metadata": {
    "scrolled": true
   },
   "outputs": [
    {
     "data": {
      "text/html": [
       "<div>\n",
       "<style scoped>\n",
       "    .dataframe tbody tr th:only-of-type {\n",
       "        vertical-align: middle;\n",
       "    }\n",
       "\n",
       "    .dataframe tbody tr th {\n",
       "        vertical-align: top;\n",
       "    }\n",
       "\n",
       "    .dataframe thead th {\n",
       "        text-align: right;\n",
       "    }\n",
       "</style>\n",
       "<table border=\"1\" class=\"dataframe\">\n",
       "  <thead>\n",
       "    <tr style=\"text-align: right;\">\n",
       "      <th></th>\n",
       "      <th>articles</th>\n",
       "      <th>score</th>\n",
       "    </tr>\n",
       "  </thead>\n",
       "  <tbody>\n",
       "    <tr>\n",
       "      <th>0</th>\n",
       "      <td>TOP 3 articles in Energy Efficiency fom the 2nd quarter of 2018</td>\n",
       "      <td>0.010687</td>\n",
       "    </tr>\n",
       "    <tr>\n",
       "      <th>1</th>\n",
       "      <td>Optimizing Electrical Motor Efficiency: Get More Bang for Your Buck</td>\n",
       "      <td>0.005730</td>\n",
       "    </tr>\n",
       "    <tr>\n",
       "      <th>2</th>\n",
       "      <td>Next steps in financing energy efficiency improvements in Europe’s industry and energy supply</td>\n",
       "      <td>0.005326</td>\n",
       "    </tr>\n",
       "    <tr>\n",
       "      <th>3</th>\n",
       "      <td>What’s next for industrial energy efficiency?</td>\n",
       "      <td>0.001502</td>\n",
       "    </tr>\n",
       "    <tr>\n",
       "      <th>4</th>\n",
       "      <td>Blockchain in the energy sector is moving forward - Key takeaways from the EventHorizon 2018</td>\n",
       "      <td>0.001125</td>\n",
       "    </tr>\n",
       "    <tr>\n",
       "      <th>5</th>\n",
       "      <td>Using Non-Energy Benefits to Build Better Business Cases</td>\n",
       "      <td>0.001103</td>\n",
       "    </tr>\n",
       "    <tr>\n",
       "      <th>6</th>\n",
       "      <td>De-risking energy efficiency projects: a market opportunity for project developers</td>\n",
       "      <td>0.000984</td>\n",
       "    </tr>\n",
       "    <tr>\n",
       "      <th>7</th>\n",
       "      <td>Evolution in energy efficiency financing</td>\n",
       "      <td>0.000933</td>\n",
       "    </tr>\n",
       "    <tr>\n",
       "      <th>8</th>\n",
       "      <td>Open now: The Energy Efficiency Barometer of Industry - a tool to enhance industrial energy productivity</td>\n",
       "      <td>0.000921</td>\n",
       "    </tr>\n",
       "    <tr>\n",
       "      <th>9</th>\n",
       "      <td>Blockchain in the energy sector: Institutional disruption?</td>\n",
       "      <td>0.000629</td>\n",
       "    </tr>\n",
       "  </tbody>\n",
       "</table>\n",
       "</div>"
      ],
      "text/plain": [
       "                                                                                                   articles  \\\n",
       "0                                           TOP 3 articles in Energy Efficiency fom the 2nd quarter of 2018   \n",
       "1                                       Optimizing Electrical Motor Efficiency: Get More Bang for Your Buck   \n",
       "2             Next steps in financing energy efficiency improvements in Europe’s industry and energy supply   \n",
       "3                                                             What’s next for industrial energy efficiency?   \n",
       "4              Blockchain in the energy sector is moving forward - Key takeaways from the EventHorizon 2018   \n",
       "5                                                  Using Non-Energy Benefits to Build Better Business Cases   \n",
       "6                        De-risking energy efficiency projects: a market opportunity for project developers   \n",
       "7                                                                  Evolution in energy efficiency financing   \n",
       "8  Open now: The Energy Efficiency Barometer of Industry - a tool to enhance industrial energy productivity   \n",
       "9                                                Blockchain in the energy sector: Institutional disruption?   \n",
       "\n",
       "      score  \n",
       "0  0.010687  \n",
       "1  0.005730  \n",
       "2  0.005326  \n",
       "3  0.001502  \n",
       "4  0.001125  \n",
       "5  0.001103  \n",
       "6  0.000984  \n",
       "7  0.000933  \n",
       "8  0.000921  \n",
       "9  0.000629  "
      ]
     },
     "execution_count": 26,
     "metadata": {},
     "output_type": "execute_result"
    }
   ],
   "source": [
    "# Create a dataframe of artist names and scores\n",
    "recommendations = pd.DataFrame({'articles': articles, 'score': scores})\n",
    "\n",
    "recommendations"
   ]
  }
 ],
 "metadata": {
  "kernelspec": {
   "display_name": "Python 3",
   "language": "python",
   "name": "python3"
  },
  "language_info": {
   "codemirror_mode": {
    "name": "ipython",
    "version": 3
   },
   "file_extension": ".py",
   "mimetype": "text/x-python",
   "name": "python",
   "nbconvert_exporter": "python",
   "pygments_lexer": "ipython3",
   "version": "3.7.1"
  }
 },
 "nbformat": 4,
 "nbformat_minor": 2
}
