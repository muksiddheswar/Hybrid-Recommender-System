{
 "cells": [
  {
   "cell_type": "code",
   "execution_count": 4,
   "metadata": {},
   "outputs": [],
   "source": [
    "import math\n",
    "from sklearn.metrics.pairwise import euclidean_distances\n",
    "\n",
    "\n",
    "def get_theta(cosine_similarity):\n",
    "    sim = np.divide(np.trunc(np.multiply(cosine_similarity, 100000000000000)), 100000000000000)\n",
    "    angles = np.arccos(sim) + math.radians(10)\n",
    "    return angles\n",
    "\n",
    "def get_magnitude(matrix):\n",
    "    magnitude = np.sqrt(matrix.multiply(matrix).sum(1))\n",
    "    return magnitude\n",
    "\n",
    "\n",
    "def get_euclidean(vectors):\n",
    "    magnitudes = euclidean_distances(vectors)\n",
    "    return magnitudes    "
   ]
  },
  {
   "cell_type": "code",
   "execution_count": 5,
   "metadata": {},
   "outputs": [],
   "source": [
    "\n",
    "tfidf = TfidfVectorizer(stop_words = 'english', norm = None)\n",
    "tfidf_vectors = tfidf.fit_transform(article_master['stemmed_content'])\n",
    "# TO-DO: Write vectors to the db.\n",
    "\n",
    "\n",
    "cosine_sim_content = cosine_similarity(tfidf_vectors)\n",
    "angles = get_theta(cosine_sim_content)\n",
    "# TO-DO: Write theta values to the db.\n",
    "\n",
    "vector_size = get_magnitude(tfidf_vectors)\n",
    "# TO-DO: Write vector_size values to the db.\n",
    "\n",
    "\n",
    "euclidean_distance = get_euclidean(tfidf_vectors)\n",
    "# TO-DO: Write euclidean_distance values to the db.\n",
    "\n",
    "# This completes model creation."
   ]
  },
  {
   "cell_type": "code",
   "execution_count": null,
   "metadata": {},
   "outputs": [],
   "source": []
  },
  {
   "cell_type": "code",
   "execution_count": null,
   "metadata": {},
   "outputs": [],
   "source": []
  },
  {
   "cell_type": "code",
   "execution_count": 43,
   "metadata": {},
   "outputs": [],
   "source": [
    "def export_content_theta(angles):\n",
    "    df = matrix_to_json(angles)\n",
    "    sql = export_content_theta_query()\n",
    "    export_data(df, sql)"
   ]
  },
  {
   "cell_type": "code",
   "execution_count": 46,
   "metadata": {
    "scrolled": true
   },
   "outputs": [
    {
     "ename": "NameError",
     "evalue": "name 'matrix_to_json' is not defined",
     "output_type": "error",
     "traceback": [
      "\u001b[0;31m---------------------------------------------------------------------------\u001b[0m",
      "\u001b[0;31mNameError\u001b[0m                                 Traceback (most recent call last)",
      "\u001b[0;32m<ipython-input-46-b46c1ca6fc76>\u001b[0m in \u001b[0;36m<module>\u001b[0;34m\u001b[0m\n\u001b[0;32m----> 1\u001b[0;31m \u001b[0mexport_content_theta\u001b[0m\u001b[0;34m(\u001b[0m\u001b[0mangles\u001b[0m\u001b[0;34m)\u001b[0m\u001b[0;34m\u001b[0m\u001b[0;34m\u001b[0m\u001b[0m\n\u001b[0m",
      "\u001b[0;32m<ipython-input-43-ea695cbdf51f>\u001b[0m in \u001b[0;36mexport_content_theta\u001b[0;34m(angles)\u001b[0m\n\u001b[1;32m      1\u001b[0m \u001b[0;32mdef\u001b[0m \u001b[0mexport_content_theta\u001b[0m\u001b[0;34m(\u001b[0m\u001b[0mangles\u001b[0m\u001b[0;34m)\u001b[0m\u001b[0;34m:\u001b[0m\u001b[0;34m\u001b[0m\u001b[0;34m\u001b[0m\u001b[0m\n\u001b[0;32m----> 2\u001b[0;31m     \u001b[0mdf\u001b[0m \u001b[0;34m=\u001b[0m \u001b[0mmatrix_to_json\u001b[0m\u001b[0;34m(\u001b[0m\u001b[0mangles\u001b[0m\u001b[0;34m)\u001b[0m\u001b[0;34m\u001b[0m\u001b[0;34m\u001b[0m\u001b[0m\n\u001b[0m\u001b[1;32m      3\u001b[0m     \u001b[0msql\u001b[0m \u001b[0;34m=\u001b[0m \u001b[0mexport_content_theta_query\u001b[0m\u001b[0;34m(\u001b[0m\u001b[0;34m)\u001b[0m\u001b[0;34m\u001b[0m\u001b[0;34m\u001b[0m\u001b[0m\n\u001b[1;32m      4\u001b[0m     \u001b[0mexport_data\u001b[0m\u001b[0;34m(\u001b[0m\u001b[0mdf\u001b[0m\u001b[0;34m,\u001b[0m \u001b[0msql\u001b[0m\u001b[0;34m)\u001b[0m\u001b[0;34m\u001b[0m\u001b[0;34m\u001b[0m\u001b[0m\n",
      "\u001b[0;31mNameError\u001b[0m: name 'matrix_to_json' is not defined"
     ]
    }
   ],
   "source": [
    "export_content_theta(angles)"
   ]
  },
  {
   "cell_type": "code",
   "execution_count": null,
   "metadata": {},
   "outputs": [],
   "source": []
  },
  {
   "cell_type": "code",
   "execution_count": null,
   "metadata": {},
   "outputs": [],
   "source": [
    "request_frame = {'article_id': [1011,1019,1022],\n",
    "        'duration': [120,300,50]\n",
    "        }\n",
    "local_id = get_local_id(request_frame['article_id'])\n",
    "\n",
    "\n",
    "# GET MAGNITUDE\n",
    "# GET THETA\n",
    "# GET EUCLIDEAN"
   ]
  },
  {
   "cell_type": "code",
   "execution_count": null,
   "metadata": {},
   "outputs": [],
   "source": []
  },
  {
   "cell_type": "code",
   "execution_count": null,
   "metadata": {},
   "outputs": [],
   "source": [
    "def get_ts_ss_similarity(article_id):\n",
    "    "
   ]
  },
  {
   "cell_type": "code",
   "execution_count": 69,
   "metadata": {},
   "outputs": [
    {
     "data": {
      "text/plain": [
       "<410x1 sparse matrix of type '<class 'numpy.float64'>'\n",
       "\twith 410 stored elements in Compressed Sparse Row format>"
      ]
     },
     "execution_count": 69,
     "metadata": {},
     "output_type": "execute_result"
    }
   ],
   "source": [
    "def get_triangle_similarity(magnitude, angles):\n",
    "    \n",
    "    "
   ]
  },
  {
   "cell_type": "code",
   "execution_count": 1,
   "metadata": {},
   "outputs": [],
   "source": []
  },
  {
   "cell_type": "code",
   "execution_count": 10,
   "metadata": {},
   "outputs": [
    {
     "data": {
      "text/plain": [
       "array([[  0.        , 137.86974857, 137.0264865 , ..., 126.74526777,\n",
       "        126.77152799, 123.63912415],\n",
       "       [137.86974857,   0.        ,  81.25884899, ...,  71.4583223 ,\n",
       "         77.72380463,  69.31166048],\n",
       "       [137.0264865 ,  81.25884899,   0.        , ...,  66.22403245,\n",
       "         72.95078988,  64.44082863],\n",
       "       ...,\n",
       "       [126.74526777,  71.4583223 ,  66.22403245, ...,   0.        ,\n",
       "         45.01046088,  31.01588147],\n",
       "       [126.77152799,  77.72380463,  72.95078988, ...,  45.01046088,\n",
       "          0.        ,  38.45708066],\n",
       "       [123.63912415,  69.31166048,  64.44082863, ...,  31.01588147,\n",
       "         38.45708066,   0.        ]])"
      ]
     },
     "execution_count": 10,
     "metadata": {},
     "output_type": "execute_result"
    }
   ],
   "source": [
    "get_euclidean(tfidf_vectors)"
   ]
  }
 ],
 "metadata": {
  "kernelspec": {
   "display_name": "Python 3",
   "language": "python",
   "name": "python3"
  },
  "language_info": {
   "codemirror_mode": {
    "name": "ipython",
    "version": 3
   },
   "file_extension": ".py",
   "mimetype": "text/x-python",
   "name": "python",
   "nbconvert_exporter": "python",
   "pygments_lexer": "ipython3",
   "version": "3.6.8"
  }
 },
 "nbformat": 4,
 "nbformat_minor": 2
}
