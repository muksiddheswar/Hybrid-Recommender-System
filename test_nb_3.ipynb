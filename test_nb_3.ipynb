{
 "cells": [
  {
   "cell_type": "code",
   "execution_count": 5,
   "metadata": {},
   "outputs": [],
   "source": [
    "from weights import *\n",
    "from db_functions import *\n",
    "import numpy as np"
   ]
  },
  {
   "cell_type": "code",
   "execution_count": 12,
   "metadata": {},
   "outputs": [],
   "source": [
    "request_frame = {'article_id': [1011,1019,1022],\n",
    "        'duration': [120,300,50]\n",
    "        }\n"
   ]
  },
  {
   "cell_type": "code",
   "execution_count": 7,
   "metadata": {
    "scrolled": true
   },
   "outputs": [
    {
     "name": "stdout",
     "output_type": "stream",
     "text": [
      "MySQL connection is closed\n"
     ]
    }
   ],
   "source": [
    "local_id = get_local_id(request_frame['article_id'])"
   ]
  },
  {
   "cell_type": "code",
   "execution_count": 8,
   "metadata": {
    "scrolled": true
   },
   "outputs": [
    {
     "data": {
      "text/html": [
       "<div>\n",
       "<style scoped>\n",
       "    .dataframe tbody tr th:only-of-type {\n",
       "        vertical-align: middle;\n",
       "    }\n",
       "\n",
       "    .dataframe tbody tr th {\n",
       "        vertical-align: top;\n",
       "    }\n",
       "\n",
       "    .dataframe thead th {\n",
       "        text-align: right;\n",
       "    }\n",
       "</style>\n",
       "<table border=\"1\" class=\"dataframe\">\n",
       "  <thead>\n",
       "    <tr style=\"text-align: right;\">\n",
       "      <th></th>\n",
       "      <th>local_id</th>\n",
       "    </tr>\n",
       "  </thead>\n",
       "  <tbody>\n",
       "    <tr>\n",
       "      <th>0</th>\n",
       "      <td>0</td>\n",
       "    </tr>\n",
       "    <tr>\n",
       "      <th>1</th>\n",
       "      <td>1</td>\n",
       "    </tr>\n",
       "    <tr>\n",
       "      <th>2</th>\n",
       "      <td>4</td>\n",
       "    </tr>\n",
       "  </tbody>\n",
       "</table>\n",
       "</div>"
      ],
      "text/plain": [
       "   local_id\n",
       "0         0\n",
       "1         1\n",
       "2         4"
      ]
     },
     "execution_count": 8,
     "metadata": {},
     "output_type": "execute_result"
    }
   ],
   "source": [
    "local_id"
   ]
  },
  {
   "cell_type": "code",
   "execution_count": 9,
   "metadata": {},
   "outputs": [],
   "source": [
    "# GET MAGNITUDE\n",
    "# GET THETA\n",
    "# GET EUCLIDEAN"
   ]
  },
  {
   "cell_type": "code",
   "execution_count": 26,
   "metadata": {},
   "outputs": [],
   "source": [
    "def get_angles_query():\n",
    "    sql = \"\"\"\n",
    "    SELECT * FROM `recen_theta_content` \n",
    "    WHERE local_id IN (%s)\n",
    "    \"\"\"\n",
    "    return sql\n",
    "\n",
    "def get_vector_magnitude_query():\n",
    "    sql = \"\"\" SELECT * FROM `recen_magnitude_content` \"\"\"\n",
    "    return sql\n",
    "\n",
    "\n",
    "def get_euclidean_distance_query():\n",
    "    sql = \"\"\"\n",
    "    SELECT * FROM `recen_distance_content` WHERE local_id in (%s)\n",
    "    \"\"\"\n",
    "    return sql"
   ]
  },
  {
   "cell_type": "code",
   "execution_count": null,
   "metadata": {},
   "outputs": [],
   "source": []
  },
  {
   "cell_type": "code",
   "execution_count": 21,
   "metadata": {},
   "outputs": [],
   "source": [
    "def get_vector_magnitude():\n",
    "    \n",
    "    conn = pymysql.connect(**connection_properties)\n",
    "    cursor = conn.cursor()\n",
    "    sql = get_vector_magnitude_query()\n",
    "    \n",
    "    try:\n",
    "        df = pd.read_sql(sql, conn)\n",
    "        \n",
    "        if(conn.open):\n",
    "           conn.close()\n",
    "           print(\"MySQL connection is closed\")\n",
    "\n",
    "        return df\n",
    "\n",
    "    except Exception as e :\n",
    "        print (\"Error while connecting to MySQL\", e)"
   ]
  },
  {
   "cell_type": "code",
   "execution_count": 28,
   "metadata": {},
   "outputs": [],
   "source": [
    "def get_angles(local_id):\n",
    "    id_string = ''\n",
    "    for index, row in local_id.iterrows():\n",
    "        if index > 0:\n",
    "            id_string += ', '\n",
    "        id_string += str(row['local_id'])\n",
    "\n",
    "    conn = pymysql.connect(**connection_properties)\n",
    "    cursor = conn.cursor()\n",
    "    sql = get_angles_query() % id_string\n",
    "    \n",
    "    try:\n",
    "        df = pd.read_sql(sql, conn)\n",
    "        \n",
    "        if(conn.open):\n",
    "           conn.close()\n",
    "           print(\"MySQL connection is closed\")\n",
    "\n",
    "        return df\n",
    "\n",
    "    except Exception as e :\n",
    "        print (\"Error while connecting to MySQL\", e)"
   ]
  },
  {
   "cell_type": "code",
   "execution_count": 29,
   "metadata": {},
   "outputs": [],
   "source": [
    "def get_euclidean_distance(local_id):\n",
    "    id_string = ''\n",
    "    for index, row in local_id.iterrows():\n",
    "        if index > 0:\n",
    "            id_string += ', '\n",
    "        id_string += str(row['local_id'])\n",
    "\n",
    "    conn = pymysql.connect(**connection_properties)\n",
    "    cursor = conn.cursor()\n",
    "    sql = get_euclidean_distance_query() % id_string\n",
    "    \n",
    "    try:\n",
    "        df = pd.read_sql(sql, conn)\n",
    "        \n",
    "        if(conn.open):\n",
    "           conn.close()\n",
    "           print(\"MySQL connection is closed\")\n",
    "\n",
    "        return df\n",
    "\n",
    "    except Exception as e :\n",
    "        print (\"Error while connecting to MySQL\", e)"
   ]
  },
  {
   "cell_type": "code",
   "execution_count": 72,
   "metadata": {
    "scrolled": false
   },
   "outputs": [
    {
     "name": "stdout",
     "output_type": "stream",
     "text": [
      "MySQL connection is closed\n",
      "MySQL connection is closed\n",
      "MySQL connection is closed\n"
     ]
    }
   ],
   "source": [
    "angles = get_angles(local_id)\n",
    "vector_magnitude = get_vector_magnitude()\n",
    "euclidean_distance = get_euclidean_distance(local_id)"
   ]
  },
  {
   "cell_type": "code",
   "execution_count": 102,
   "metadata": {},
   "outputs": [],
   "source": [
    "distances = euclidean_distance['distance'].apply(lambda row: pd.read_json(row, typ = 'list'))\n",
    "distances = distances.to_numpy()"
   ]
  },
  {
   "cell_type": "code",
   "execution_count": null,
   "metadata": {},
   "outputs": [],
   "source": []
  },
  {
   "cell_type": "code",
   "execution_count": null,
   "metadata": {},
   "outputs": [],
   "source": []
  },
  {
   "cell_type": "code",
   "execution_count": 73,
   "metadata": {
    "scrolled": true
   },
   "outputs": [
    {
     "data": {
      "text/html": [
       "<div>\n",
       "<style scoped>\n",
       "    .dataframe tbody tr th:only-of-type {\n",
       "        vertical-align: middle;\n",
       "    }\n",
       "\n",
       "    .dataframe tbody tr th {\n",
       "        vertical-align: top;\n",
       "    }\n",
       "\n",
       "    .dataframe thead th {\n",
       "        text-align: right;\n",
       "    }\n",
       "</style>\n",
       "<table border=\"1\" class=\"dataframe\">\n",
       "  <thead>\n",
       "    <tr style=\"text-align: right;\">\n",
       "      <th></th>\n",
       "      <th>local_id</th>\n",
       "      <th>distance</th>\n",
       "    </tr>\n",
       "  </thead>\n",
       "  <tbody>\n",
       "    <tr>\n",
       "      <th>0</th>\n",
       "      <td>0</td>\n",
       "      <td>{\"0\": 0, \"1\": 137.8697485665, \"2\": 137.0264865...</td>\n",
       "    </tr>\n",
       "    <tr>\n",
       "      <th>1</th>\n",
       "      <td>1</td>\n",
       "      <td>{\"0\": 137.8697485665, \"1\": 0, \"2\": 81.25884898...</td>\n",
       "    </tr>\n",
       "    <tr>\n",
       "      <th>2</th>\n",
       "      <td>4</td>\n",
       "      <td>{\"0\": 135.7676166219, \"1\": 80.9898603678, \"2\":...</td>\n",
       "    </tr>\n",
       "  </tbody>\n",
       "</table>\n",
       "</div>"
      ],
      "text/plain": [
       "   local_id                                           distance\n",
       "0         0  {\"0\": 0, \"1\": 137.8697485665, \"2\": 137.0264865...\n",
       "1         1  {\"0\": 137.8697485665, \"1\": 0, \"2\": 81.25884898...\n",
       "2         4  {\"0\": 135.7676166219, \"1\": 80.9898603678, \"2\":..."
      ]
     },
     "execution_count": 73,
     "metadata": {},
     "output_type": "execute_result"
    }
   ],
   "source": [
    "euclidean_distance"
   ]
  },
  {
   "cell_type": "code",
   "execution_count": 75,
   "metadata": {},
   "outputs": [
    {
     "data": {
      "text/plain": [
       "pandas.core.frame.DataFrame"
      ]
     },
     "execution_count": 75,
     "metadata": {},
     "output_type": "execute_result"
    }
   ],
   "source": [
    "type(euclidean_distance)"
   ]
  },
  {
   "cell_type": "code",
   "execution_count": 71,
   "metadata": {},
   "outputs": [
    {
     "data": {
      "text/plain": [
       "(3, 3)"
      ]
     },
     "execution_count": 71,
     "metadata": {},
     "output_type": "execute_result"
    }
   ],
   "source": [
    "euclidean_distance.shape"
   ]
  },
  {
   "cell_type": "code",
   "execution_count": 89,
   "metadata": {},
   "outputs": [
    {
     "data": {
      "text/html": [
       "<div>\n",
       "<style scoped>\n",
       "    .dataframe tbody tr th:only-of-type {\n",
       "        vertical-align: middle;\n",
       "    }\n",
       "\n",
       "    .dataframe tbody tr th {\n",
       "        vertical-align: top;\n",
       "    }\n",
       "\n",
       "    .dataframe thead th {\n",
       "        text-align: right;\n",
       "    }\n",
       "</style>\n",
       "<table border=\"1\" class=\"dataframe\">\n",
       "  <thead>\n",
       "    <tr style=\"text-align: right;\">\n",
       "      <th></th>\n",
       "      <th>0</th>\n",
       "      <th>1</th>\n",
       "      <th>2</th>\n",
       "      <th>3</th>\n",
       "      <th>4</th>\n",
       "      <th>5</th>\n",
       "      <th>6</th>\n",
       "      <th>7</th>\n",
       "      <th>8</th>\n",
       "      <th>9</th>\n",
       "      <th>...</th>\n",
       "      <th>400</th>\n",
       "      <th>401</th>\n",
       "      <th>402</th>\n",
       "      <th>403</th>\n",
       "      <th>404</th>\n",
       "      <th>405</th>\n",
       "      <th>406</th>\n",
       "      <th>407</th>\n",
       "      <th>408</th>\n",
       "      <th>409</th>\n",
       "    </tr>\n",
       "  </thead>\n",
       "  <tbody>\n",
       "    <tr>\n",
       "      <th>0</th>\n",
       "      <td>0.000000</td>\n",
       "      <td>137.869749</td>\n",
       "      <td>137.026487</td>\n",
       "      <td>185.779479</td>\n",
       "      <td>135.767617</td>\n",
       "      <td>130.115800</td>\n",
       "      <td>138.487131</td>\n",
       "      <td>157.783370</td>\n",
       "      <td>212.575480</td>\n",
       "      <td>138.757157</td>\n",
       "      <td>...</td>\n",
       "      <td>127.299674</td>\n",
       "      <td>128.878661</td>\n",
       "      <td>128.899471</td>\n",
       "      <td>124.575693</td>\n",
       "      <td>126.782222</td>\n",
       "      <td>125.882560</td>\n",
       "      <td>122.172199</td>\n",
       "      <td>126.745268</td>\n",
       "      <td>126.771528</td>\n",
       "      <td>123.639124</td>\n",
       "    </tr>\n",
       "    <tr>\n",
       "      <th>1</th>\n",
       "      <td>137.869749</td>\n",
       "      <td>0.000000</td>\n",
       "      <td>81.258849</td>\n",
       "      <td>148.259563</td>\n",
       "      <td>80.989860</td>\n",
       "      <td>76.610422</td>\n",
       "      <td>80.434100</td>\n",
       "      <td>120.632207</td>\n",
       "      <td>246.703324</td>\n",
       "      <td>85.359354</td>\n",
       "      <td>...</td>\n",
       "      <td>68.563284</td>\n",
       "      <td>70.656760</td>\n",
       "      <td>70.458550</td>\n",
       "      <td>71.595316</td>\n",
       "      <td>72.018237</td>\n",
       "      <td>70.375030</td>\n",
       "      <td>69.695426</td>\n",
       "      <td>71.458322</td>\n",
       "      <td>77.723805</td>\n",
       "      <td>69.311660</td>\n",
       "    </tr>\n",
       "    <tr>\n",
       "      <th>2</th>\n",
       "      <td>135.767617</td>\n",
       "      <td>80.989860</td>\n",
       "      <td>75.080338</td>\n",
       "      <td>146.912525</td>\n",
       "      <td>0.000000</td>\n",
       "      <td>67.445903</td>\n",
       "      <td>74.519506</td>\n",
       "      <td>114.123728</td>\n",
       "      <td>249.092381</td>\n",
       "      <td>78.200821</td>\n",
       "      <td>...</td>\n",
       "      <td>54.480651</td>\n",
       "      <td>58.566016</td>\n",
       "      <td>58.252614</td>\n",
       "      <td>58.973441</td>\n",
       "      <td>59.883368</td>\n",
       "      <td>56.854206</td>\n",
       "      <td>56.148569</td>\n",
       "      <td>58.039558</td>\n",
       "      <td>66.475668</td>\n",
       "      <td>56.816833</td>\n",
       "    </tr>\n",
       "  </tbody>\n",
       "</table>\n",
       "<p>3 rows × 410 columns</p>\n",
       "</div>"
      ],
      "text/plain": [
       "          0           1           2           3           4           5    \\\n",
       "0    0.000000  137.869749  137.026487  185.779479  135.767617  130.115800   \n",
       "1  137.869749    0.000000   81.258849  148.259563   80.989860   76.610422   \n",
       "2  135.767617   80.989860   75.080338  146.912525    0.000000   67.445903   \n",
       "\n",
       "          6           7           8           9    ...         400  \\\n",
       "0  138.487131  157.783370  212.575480  138.757157  ...  127.299674   \n",
       "1   80.434100  120.632207  246.703324   85.359354  ...   68.563284   \n",
       "2   74.519506  114.123728  249.092381   78.200821  ...   54.480651   \n",
       "\n",
       "          401         402         403         404         405         406  \\\n",
       "0  128.878661  128.899471  124.575693  126.782222  125.882560  122.172199   \n",
       "1   70.656760   70.458550   71.595316   72.018237   70.375030   69.695426   \n",
       "2   58.566016   58.252614   58.973441   59.883368   56.854206   56.148569   \n",
       "\n",
       "          407         408         409  \n",
       "0  126.745268  126.771528  123.639124  \n",
       "1   71.458322   77.723805   69.311660  \n",
       "2   58.039558   66.475668   56.816833  \n",
       "\n",
       "[3 rows x 410 columns]"
      ]
     },
     "execution_count": 89,
     "metadata": {},
     "output_type": "execute_result"
    }
   ],
   "source": [
    "distances = euclidean_distance['distance'].apply(lambda row: pd.read_json(row, typ = 'list'))\n",
    "distances"
   ]
  },
  {
   "cell_type": "code",
   "execution_count": 82,
   "metadata": {
    "scrolled": false
   },
   "outputs": [
    {
     "data": {
      "text/plain": [
       "(3, 410)"
      ]
     },
     "execution_count": 82,
     "metadata": {},
     "output_type": "execute_result"
    }
   ],
   "source": [
    "distances.shape"
   ]
  },
  {
   "cell_type": "code",
   "execution_count": 90,
   "metadata": {},
   "outputs": [
    {
     "data": {
      "text/plain": [
       "pandas.core.frame.DataFrame"
      ]
     },
     "execution_count": 90,
     "metadata": {},
     "output_type": "execute_result"
    }
   ],
   "source": [
    "type(distances)"
   ]
  },
  {
   "cell_type": "code",
   "execution_count": 84,
   "metadata": {},
   "outputs": [],
   "source": [
    "magnitudes = vector_magnitude['magnitude'].apply(lambda row: pd.read_json(row, typ = 'list'))"
   ]
  },
  {
   "cell_type": "code",
   "execution_count": 95,
   "metadata": {},
   "outputs": [
    {
     "data": {
      "text/plain": [
       "pandas.core.series.Series"
      ]
     },
     "execution_count": 95,
     "metadata": {},
     "output_type": "execute_result"
    }
   ],
   "source": [
    "type(magnitudes.iloc[1])"
   ]
  },
  {
   "cell_type": "code",
   "execution_count": 86,
   "metadata": {},
   "outputs": [
    {
     "data": {
      "text/plain": [
       "(410, 1)"
      ]
     },
     "execution_count": 86,
     "metadata": {},
     "output_type": "execute_result"
    }
   ],
   "source": [
    "magnitudes.shape"
   ]
  },
  {
   "cell_type": "code",
   "execution_count": 96,
   "metadata": {},
   "outputs": [
    {
     "data": {
      "text/plain": [
       "pandas.core.frame.DataFrame"
      ]
     },
     "execution_count": 96,
     "metadata": {},
     "output_type": "execute_result"
    }
   ],
   "source": [
    "type(magnitudes)"
   ]
  },
  {
   "cell_type": "code",
   "execution_count": 108,
   "metadata": {},
   "outputs": [
    {
     "data": {
      "text/plain": [
       "array([[list([[127.4188473234]])],\n",
       "       [list([[67.6244639575]])],\n",
       "       [list([[62.0654428818]])],\n",
       "       [list([[143.2048138668]])],\n",
       "       [list([[53.2455353861]])],\n",
       "       [list([[46.6373914753]])],\n",
       "       [list([[58.5571806358]])],\n",
       "       [list([[105.5725344669]])],\n",
       "       [list([[248.1236070731]])],\n",
       "       [list([[62.7827711249]])],\n",
       "       [list([[150.3658741472]])],\n",
       "       [list([[79.7224374518]])],\n",
       "       [list([[86.7795323135]])],\n",
       "       [list([[130.6969114575]])],\n",
       "       [list([[133.2632752841]])],\n",
       "       [list([[174.0766796029]])],\n",
       "       [list([[77.7718456771]])],\n",
       "       [list([[221.9465839689]])],\n",
       "       [list([[130.8099157291]])],\n",
       "       [list([[166.5842859348]])],\n",
       "       [list([[123.9461781888]])],\n",
       "       [list([[143.63853033]])],\n",
       "       [list([[84.9090632799]])],\n",
       "       [list([[124.1266416915]])],\n",
       "       [list([[87.2993855175]])],\n",
       "       [list([[79.7147115956]])],\n",
       "       [list([[108.120253388]])],\n",
       "       [list([[119.472897368]])],\n",
       "       [list([[73.5255182087]])],\n",
       "       [list([[137.4503436806]])],\n",
       "       [list([[286.845148157]])],\n",
       "       [list([[105.7198094473]])],\n",
       "       [list([[119.1565039603]])],\n",
       "       [list([[173.2118520617]])],\n",
       "       [list([[222.5126769383]])],\n",
       "       [list([[107.1549129189]])],\n",
       "       [list([[134.728588669]])],\n",
       "       [list([[106.9449938223]])],\n",
       "       [list([[76.5960562915]])],\n",
       "       [list([[149.5447642877]])],\n",
       "       [list([[203.539124702]])],\n",
       "       [list([[138.8926809169]])],\n",
       "       [list([[301.6046469956]])],\n",
       "       [list([[93.2482727881]])],\n",
       "       [list([[174.8004944936]])],\n",
       "       [list([[142.4871563543]])],\n",
       "       [list([[105.5097045822]])],\n",
       "       [list([[90.5520667358]])],\n",
       "       [list([[38.9226716774]])],\n",
       "       [list([[84.2326753282]])],\n",
       "       [list([[157.8663723884]])],\n",
       "       [list([[68.4241999574]])],\n",
       "       [list([[111.7455703347]])],\n",
       "       [list([[121.5310282556]])],\n",
       "       [list([[50.1068884463]])],\n",
       "       [list([[230.4998451876]])],\n",
       "       [list([[80.5662699839]])],\n",
       "       [list([[84.1529035643]])],\n",
       "       [list([[48.7142070046]])],\n",
       "       [list([[189.1873694175]])],\n",
       "       [list([[131.4735691974]])],\n",
       "       [list([[105.1797711434]])],\n",
       "       [list([[372.8048170893]])],\n",
       "       [list([[176.9787580287]])],\n",
       "       [list([[123.1533462819]])],\n",
       "       [list([[178.197831923]])],\n",
       "       [list([[108.1332792496]])],\n",
       "       [list([[124.5423662291]])],\n",
       "       [list([[283.3749233744]])],\n",
       "       [list([[129.7563635995]])],\n",
       "       [list([[235.5758312436]])],\n",
       "       [list([[135.6918932241]])],\n",
       "       [list([[288.3138946426]])],\n",
       "       [list([[156.0935105747]])],\n",
       "       [list([[129.6282698029]])],\n",
       "       [list([[140.0510896684]])],\n",
       "       [list([[169.1625537511]])],\n",
       "       [list([[190.6765539557]])],\n",
       "       [list([[197.9464365733]])],\n",
       "       [list([[124.6681016497]])],\n",
       "       [list([[324.248404212]])],\n",
       "       [list([[109.4178818937]])],\n",
       "       [list([[176.8662827197]])],\n",
       "       [list([[139.7343696121]])],\n",
       "       [list([[96.2978056376]])],\n",
       "       [list([[156.1285082447]])],\n",
       "       [list([[126.2342663879]])],\n",
       "       [list([[165.6868733449]])],\n",
       "       [list([[180.0620216863]])],\n",
       "       [list([[133.8641420168]])],\n",
       "       [list([[96.8056746658]])],\n",
       "       [list([[130.0806189202]])],\n",
       "       [list([[172.6778563324]])],\n",
       "       [list([[181.8846536672]])],\n",
       "       [list([[313.0326557006]])],\n",
       "       [list([[151.5862190253]])],\n",
       "       [list([[104.3422989954]])],\n",
       "       [list([[262.1405438507]])],\n",
       "       [list([[111.1844433819]])],\n",
       "       [list([[53.355248826]])],\n",
       "       [list([[168.012214604]])],\n",
       "       [list([[165.5228631305]])],\n",
       "       [list([[644.7747134517]])],\n",
       "       [list([[177.7565271135]])],\n",
       "       [list([[329.3905743523]])],\n",
       "       [list([[154.7363683926]])],\n",
       "       [list([[150.2882177433]])],\n",
       "       [list([[124.7361562953]])],\n",
       "       [list([[167.6343619243]])],\n",
       "       [list([[201.3988331402]])],\n",
       "       [list([[207.6255565138]])],\n",
       "       [list([[238.3353718982]])],\n",
       "       [list([[139.5341021996]])],\n",
       "       [list([[113.1921813136]])],\n",
       "       [list([[113.6298792012]])],\n",
       "       [list([[111.0657788509]])],\n",
       "       [list([[164.545230174]])],\n",
       "       [list([[115.3974771451]])],\n",
       "       [list([[99.8570376476]])],\n",
       "       [list([[112.9432598842]])],\n",
       "       [list([[134.7340413436]])],\n",
       "       [list([[125.4511575367]])],\n",
       "       [list([[233.5378391651]])],\n",
       "       [list([[85.695024904]])],\n",
       "       [list([[132.6523551466]])],\n",
       "       [list([[106.5386486774]])],\n",
       "       [list([[138.8218357283]])],\n",
       "       [list([[240.2651108568]])],\n",
       "       [list([[163.8089516671]])],\n",
       "       [list([[250.1838844522]])],\n",
       "       [list([[152.0047885373]])],\n",
       "       [list([[187.8153472025]])],\n",
       "       [list([[145.6920752435]])],\n",
       "       [list([[234.1634971671]])],\n",
       "       [list([[93.1488961758]])],\n",
       "       [list([[181.3987294461]])],\n",
       "       [list([[116.5119853306]])],\n",
       "       [list([[322.6780430323]])],\n",
       "       [list([[133.1394727047]])],\n",
       "       [list([[123.7564193303]])],\n",
       "       [list([[192.2806815239]])],\n",
       "       [list([[202.400102481]])],\n",
       "       [list([[54.8104995647]])],\n",
       "       [list([[172.2215247386]])],\n",
       "       [list([[118.3380516037]])],\n",
       "       [list([[165.493794882]])],\n",
       "       [list([[144.6430293151]])],\n",
       "       [list([[101.3168810156]])],\n",
       "       [list([[194.9310889934]])],\n",
       "       [list([[58.1625437838]])],\n",
       "       [list([[141.7484105178]])],\n",
       "       [list([[281.3656892923]])],\n",
       "       [list([[57.9272070395]])],\n",
       "       [list([[141.6476490664]])],\n",
       "       [list([[97.9080422374]])],\n",
       "       [list([[155.257250646]])],\n",
       "       [list([[51.8937869389]])],\n",
       "       [list([[195.1208594799]])],\n",
       "       [list([[146.1744484416]])],\n",
       "       [list([[58.8566648293]])],\n",
       "       [list([[526.8585753935]])],\n",
       "       [list([[215.4789589242]])],\n",
       "       [list([[44.9995366599]])],\n",
       "       [list([[131.4888056682]])],\n",
       "       [list([[114.8312159946]])],\n",
       "       [list([[128.6604848085]])],\n",
       "       [list([[97.2066718084]])],\n",
       "       [list([[119.1103776041]])],\n",
       "       [list([[142.4972632908]])],\n",
       "       [list([[74.0147686669]])],\n",
       "       [list([[171.1158376474]])],\n",
       "       [list([[96.0717228535]])],\n",
       "       [list([[150.9016951902]])],\n",
       "       [list([[262.7559645675]])],\n",
       "       [list([[181.8212328253]])],\n",
       "       [list([[143.6634505769]])],\n",
       "       [list([[137.3906600892]])],\n",
       "       [list([[158.6867840509]])],\n",
       "       [list([[115.6970262473]])],\n",
       "       [list([[96.7554574616]])],\n",
       "       [list([[130.6734303678]])],\n",
       "       [list([[113.6623357561]])],\n",
       "       [list([[60.03043328]])],\n",
       "       [list([[11.4324442082]])],\n",
       "       [list([[16.5300919629]])],\n",
       "       [list([[17.6445943098]])],\n",
       "       [list([[20.9662375628]])],\n",
       "       [list([[23.8845972546]])],\n",
       "       [list([[30.6814174775]])],\n",
       "       [list([[36.2276863399]])],\n",
       "       [list([[20.1478228353]])],\n",
       "       [list([[35.1344714186]])],\n",
       "       [list([[34.7057856509]])],\n",
       "       [list([[16.1361002535]])],\n",
       "       [list([[20.0524818034]])],\n",
       "       [list([[25.6979343843]])],\n",
       "       [list([[15.2404078648]])],\n",
       "       [list([[18.3179622206]])],\n",
       "       [list([[12.8088841861]])],\n",
       "       [list([[18.2146899625]])],\n",
       "       [list([[22.9168253925]])],\n",
       "       [list([[24.6113982317]])],\n",
       "       [list([[18.8547507589]])],\n",
       "       [list([[13.6869537895]])],\n",
       "       [list([[30.7408811774]])],\n",
       "       [list([[18.8088568455]])],\n",
       "       [list([[33.8376572123]])],\n",
       "       [list([[27.2077866288]])],\n",
       "       [list([[22.2901859476]])],\n",
       "       [list([[24.3173189952]])],\n",
       "       [list([[20.2799883277]])],\n",
       "       [list([[19.0895928514]])],\n",
       "       [list([[33.7024898587]])],\n",
       "       [list([[24.4181793412]])],\n",
       "       [list([[23.1485419227]])],\n",
       "       [list([[19.7600062635]])],\n",
       "       [list([[22.7184752504]])],\n",
       "       [list([[23.2252110103]])],\n",
       "       [list([[26.7789404169]])],\n",
       "       [list([[19.2790186424]])],\n",
       "       [list([[28.793868514]])],\n",
       "       [list([[19.126216066]])],\n",
       "       [list([[23.7306640752]])],\n",
       "       [list([[24.3409402717]])],\n",
       "       [list([[21.6603233206]])],\n",
       "       [list([[20.59520395]])],\n",
       "       [list([[28.1621730776]])],\n",
       "       [list([[25.0710662463]])],\n",
       "       [list([[25.0081110343]])],\n",
       "       [list([[23.7096579418]])],\n",
       "       [list([[19.7041228964]])],\n",
       "       [list([[25.2870557875]])],\n",
       "       [list([[18.9723207307]])],\n",
       "       [list([[20.421453027]])],\n",
       "       [list([[44.5495250552]])],\n",
       "       [list([[27.6227107476]])],\n",
       "       [list([[15.315779193000001]])],\n",
       "       [list([[20.9448362973]])],\n",
       "       [list([[29.4944669995]])],\n",
       "       [list([[30.1256104693]])],\n",
       "       [list([[40.2053148008]])],\n",
       "       [list([[23.2221327739]])],\n",
       "       [list([[42.8206358594]])],\n",
       "       [list([[30.9871475767]])],\n",
       "       [list([[27.5584044486]])],\n",
       "       [list([[31.959332689]])],\n",
       "       [list([[27.964339245]])],\n",
       "       [list([[43.0444284365]])],\n",
       "       [list([[30.3319210873]])],\n",
       "       [list([[31.5683788623]])],\n",
       "       [list([[30.1753837264]])],\n",
       "       [list([[24.457757349]])],\n",
       "       [list([[20.9484534737]])],\n",
       "       [list([[18.7783059222]])],\n",
       "       [list([[19.5527868711]])],\n",
       "       [list([[28.568054535]])],\n",
       "       [list([[14.3445229631]])],\n",
       "       [list([[17.1364478132]])],\n",
       "       [list([[29.479463767]])],\n",
       "       [list([[27.4919241592]])],\n",
       "       [list([[42.421820165]])],\n",
       "       [list([[47.1108512245]])],\n",
       "       [list([[24.4077500802]])],\n",
       "       [list([[28.3761469214]])],\n",
       "       [list([[38.9752686579]])],\n",
       "       [list([[31.25435235]])],\n",
       "       [list([[27.1275025529]])],\n",
       "       [list([[27.2403831815]])],\n",
       "       [list([[25.7581721798]])],\n",
       "       [list([[36.8996574471]])],\n",
       "       [list([[39.2624217454]])],\n",
       "       [list([[43.9583157519]])],\n",
       "       [list([[32.856843008]])],\n",
       "       [list([[23.1432187454]])],\n",
       "       [list([[18.413645781]])],\n",
       "       [list([[25.0447037226]])],\n",
       "       [list([[22.0405778219]])],\n",
       "       [list([[24.0392386066]])],\n",
       "       [list([[31.1219672755]])],\n",
       "       [list([[41.7127267646]])],\n",
       "       [list([[51.8829279343]])],\n",
       "       [list([[43.4597805274]])],\n",
       "       [list([[26.5102697768]])],\n",
       "       [list([[14.933042423]])],\n",
       "       [list([[21.7899884309]])],\n",
       "       [list([[21.15629982]])],\n",
       "       [list([[41.2227599561]])],\n",
       "       [list([[30.312499698]])],\n",
       "       [list([[33.1659819343]])],\n",
       "       [list([[26.8625354225]])],\n",
       "       [list([[32.8412073379]])],\n",
       "       [list([[35.9403923848]])],\n",
       "       [list([[22.8335474385]])],\n",
       "       [list([[17.0128112908]])],\n",
       "       [list([[16.8873206612]])],\n",
       "       [list([[15.5874692683]])],\n",
       "       [list([[17.4446476172]])],\n",
       "       [list([[21.3798018515]])],\n",
       "       [list([[44.1852682174]])],\n",
       "       [list([[22.7655176673]])],\n",
       "       [list([[38.1732403734]])],\n",
       "       [list([[21.52097553]])],\n",
       "       [list([[24.690009301899998]])],\n",
       "       [list([[17.6882890277]])],\n",
       "       [list([[24.8469326606]])],\n",
       "       [list([[19.5138432616]])],\n",
       "       [list([[18.2527887016]])],\n",
       "       [list([[19.9091851963]])],\n",
       "       [list([[25.3208760806]])],\n",
       "       [list([[13.9885335704]])],\n",
       "       [list([[36.1720429308]])],\n",
       "       [list([[27.0608814395]])],\n",
       "       [list([[25.6131969186]])],\n",
       "       [list([[25.5051484543]])],\n",
       "       [list([[25.6184547854]])],\n",
       "       [list([[47.5777661228]])],\n",
       "       [list([[39.4834281125]])],\n",
       "       [list([[40.9285083626]])],\n",
       "       [list([[40.4996469503]])],\n",
       "       [list([[42.6733061184]])],\n",
       "       [list([[37.7764033961]])],\n",
       "       [list([[31.7919316623]])],\n",
       "       [list([[38.2391896694]])],\n",
       "       [list([[42.2104951875]])],\n",
       "       [list([[29.4075961]])],\n",
       "       [list([[30.6840850545]])],\n",
       "       [list([[32.6002889873]])],\n",
       "       [list([[23.6013667368]])],\n",
       "       [list([[24.2302255583]])],\n",
       "       [list([[27.5530262475]])],\n",
       "       [list([[28.791822385]])],\n",
       "       [list([[20.6909125369]])],\n",
       "       [list([[22.3664677598]])],\n",
       "       [list([[19.2027926335]])],\n",
       "       [list([[14.2522635339]])],\n",
       "       [list([[19.8432449837]])],\n",
       "       [list([[14.0769997682]])],\n",
       "       [list([[27.6116916081]])],\n",
       "       [list([[26.7890521293]])],\n",
       "       [list([[27.1160798522]])],\n",
       "       [list([[27.2202776534]])],\n",
       "       [list([[22.1276665279]])],\n",
       "       [list([[17.1738745038]])],\n",
       "       [list([[19.3747683121]])],\n",
       "       [list([[25.1933449848]])],\n",
       "       [list([[31.4404615048]])],\n",
       "       [list([[25.2928770462]])],\n",
       "       [list([[27.9322203209]])],\n",
       "       [list([[32.9703612758]])],\n",
       "       [list([[19.4099573652]])],\n",
       "       [list([[26.0480150466]])],\n",
       "       [list([[35.7936192696]])],\n",
       "       [list([[28.015556772]])],\n",
       "       [list([[42.7176884497]])],\n",
       "       [list([[32.2808749263]])],\n",
       "       [list([[43.3450072616]])],\n",
       "       [list([[40.691669811]])],\n",
       "       [list([[37.6428366148]])],\n",
       "       [list([[39.7361919557]])],\n",
       "       [list([[43.4131172555]])],\n",
       "       [list([[38.2826042965]])],\n",
       "       [list([[28.7498136642]])],\n",
       "       [list([[27.832625511]])],\n",
       "       [list([[23.5403136765]])],\n",
       "       [list([[27.7659457768]])],\n",
       "       [list([[16.4375679242]])],\n",
       "       [list([[24.3273721389]])],\n",
       "       [list([[62.9728705805]])],\n",
       "       [list([[45.2180194561]])],\n",
       "       [list([[23.5208726513]])],\n",
       "       [list([[39.2521819464]])],\n",
       "       [list([[29.8579077037]])],\n",
       "       [list([[40.5097888128]])],\n",
       "       [list([[16.8942554079]])],\n",
       "       [list([[24.0655003795]])],\n",
       "       [list([[23.098085764]])],\n",
       "       [list([[23.9578505158]])],\n",
       "       [list([[24.3273721389]])],\n",
       "       [list([[16.4375679242]])],\n",
       "       [list([[28.9364786845]])],\n",
       "       [list([[25.3073398763]])],\n",
       "       [list([[26.6861102875]])],\n",
       "       [list([[32.0920190203]])],\n",
       "       [list([[21.3278373514]])],\n",
       "       [list([[28.023458698]])],\n",
       "       [list([[34.1644741216]])],\n",
       "       [list([[25.3681565048]])],\n",
       "       [list([[32.5810101948]])],\n",
       "       [list([[35.3256759283]])],\n",
       "       [list([[28.9248645293]])],\n",
       "       [list([[25.7808123276]])],\n",
       "       [list([[51.1538273122]])],\n",
       "       [list([[30.4668518644]])],\n",
       "       [list([[38.9756825271]])],\n",
       "       [list([[27.7659457768]])],\n",
       "       [list([[25.7320266162]])],\n",
       "       [list([[23.5403136765]])],\n",
       "       [list([[27.7659457768]])],\n",
       "       [list([[24.3273721389]])],\n",
       "       [list([[25.7320266162]])],\n",
       "       [list([[16.4375679242]])],\n",
       "       [list([[27.7659457768]])],\n",
       "       [list([[28.9364786845]])],\n",
       "       [list([[25.944136788]])],\n",
       "       [list([[29.193634863]])],\n",
       "       [list([[23.2628593446]])],\n",
       "       [list([[19.7050409925]])],\n",
       "       [list([[24.0093087954]])],\n",
       "       [list([[40.1778311569]])],\n",
       "       [list([[22.3509085503]])]], dtype=object)"
      ]
     },
     "execution_count": 108,
     "metadata": {},
     "output_type": "execute_result"
    }
   ],
   "source": [
    "magnitudes.to_numpy()"
   ]
  },
  {
   "cell_type": "code",
   "execution_count": null,
   "metadata": {},
   "outputs": [],
   "source": []
  },
  {
   "cell_type": "code",
   "execution_count": 88,
   "metadata": {},
   "outputs": [
    {
     "ename": "ValueError",
     "evalue": "setting an array element with a sequence.",
     "output_type": "error",
     "traceback": [
      "\u001b[0;31m---------------------------------------------------------------------------\u001b[0m",
      "\u001b[0;31mValueError\u001b[0m                                Traceback (most recent call last)",
      "\u001b[0;32m<ipython-input-88-fd0207f0fa48>\u001b[0m in \u001b[0;36m<module>\u001b[0;34m\u001b[0m\n\u001b[0;32m----> 1\u001b[0;31m \u001b[0mp\u001b[0m \u001b[0;34m=\u001b[0m \u001b[0mpairwise_distances\u001b[0m\u001b[0;34m(\u001b[0m\u001b[0mmagnitudes\u001b[0m\u001b[0;34m,\u001b[0m \u001b[0mmetric\u001b[0m\u001b[0;34m=\u001b[0m\u001b[0;34m'manhattan'\u001b[0m\u001b[0;34m)\u001b[0m\u001b[0;34m\u001b[0m\u001b[0;34m\u001b[0m\u001b[0m\n\u001b[0m",
      "\u001b[0;32m~/.local/lib/python3.6/site-packages/sklearn/metrics/pairwise.py\u001b[0m in \u001b[0;36mpairwise_distances\u001b[0;34m(X, Y, metric, n_jobs, **kwds)\u001b[0m\n\u001b[1;32m   1586\u001b[0m         \u001b[0mfunc\u001b[0m \u001b[0;34m=\u001b[0m \u001b[0mpartial\u001b[0m\u001b[0;34m(\u001b[0m\u001b[0mdistance\u001b[0m\u001b[0;34m.\u001b[0m\u001b[0mcdist\u001b[0m\u001b[0;34m,\u001b[0m \u001b[0mmetric\u001b[0m\u001b[0;34m=\u001b[0m\u001b[0mmetric\u001b[0m\u001b[0;34m,\u001b[0m \u001b[0;34m**\u001b[0m\u001b[0mkwds\u001b[0m\u001b[0;34m)\u001b[0m\u001b[0;34m\u001b[0m\u001b[0;34m\u001b[0m\u001b[0m\n\u001b[1;32m   1587\u001b[0m \u001b[0;34m\u001b[0m\u001b[0m\n\u001b[0;32m-> 1588\u001b[0;31m     \u001b[0;32mreturn\u001b[0m \u001b[0m_parallel_pairwise\u001b[0m\u001b[0;34m(\u001b[0m\u001b[0mX\u001b[0m\u001b[0;34m,\u001b[0m \u001b[0mY\u001b[0m\u001b[0;34m,\u001b[0m \u001b[0mfunc\u001b[0m\u001b[0;34m,\u001b[0m \u001b[0mn_jobs\u001b[0m\u001b[0;34m,\u001b[0m \u001b[0;34m**\u001b[0m\u001b[0mkwds\u001b[0m\u001b[0;34m)\u001b[0m\u001b[0;34m\u001b[0m\u001b[0;34m\u001b[0m\u001b[0m\n\u001b[0m\u001b[1;32m   1589\u001b[0m \u001b[0;34m\u001b[0m\u001b[0m\n\u001b[1;32m   1590\u001b[0m \u001b[0;34m\u001b[0m\u001b[0m\n",
      "\u001b[0;32m~/.local/lib/python3.6/site-packages/sklearn/metrics/pairwise.py\u001b[0m in \u001b[0;36m_parallel_pairwise\u001b[0;34m(X, Y, func, n_jobs, **kwds)\u001b[0m\n\u001b[1;32m   1204\u001b[0m \u001b[0;34m\u001b[0m\u001b[0m\n\u001b[1;32m   1205\u001b[0m     \u001b[0;32mif\u001b[0m \u001b[0meffective_n_jobs\u001b[0m\u001b[0;34m(\u001b[0m\u001b[0mn_jobs\u001b[0m\u001b[0;34m)\u001b[0m \u001b[0;34m==\u001b[0m \u001b[0;36m1\u001b[0m\u001b[0;34m:\u001b[0m\u001b[0;34m\u001b[0m\u001b[0;34m\u001b[0m\u001b[0m\n\u001b[0;32m-> 1206\u001b[0;31m         \u001b[0;32mreturn\u001b[0m \u001b[0mfunc\u001b[0m\u001b[0;34m(\u001b[0m\u001b[0mX\u001b[0m\u001b[0;34m,\u001b[0m \u001b[0mY\u001b[0m\u001b[0;34m,\u001b[0m \u001b[0;34m**\u001b[0m\u001b[0mkwds\u001b[0m\u001b[0;34m)\u001b[0m\u001b[0;34m\u001b[0m\u001b[0;34m\u001b[0m\u001b[0m\n\u001b[0m\u001b[1;32m   1207\u001b[0m \u001b[0;34m\u001b[0m\u001b[0m\n\u001b[1;32m   1208\u001b[0m     \u001b[0;31m# enforce a threading backend to prevent data communication overhead\u001b[0m\u001b[0;34m\u001b[0m\u001b[0;34m\u001b[0m\u001b[0;34m\u001b[0m\u001b[0m\n",
      "\u001b[0;32m~/.local/lib/python3.6/site-packages/sklearn/metrics/pairwise.py\u001b[0m in \u001b[0;36mmanhattan_distances\u001b[0;34m(X, Y, sum_over_features)\u001b[0m\n\u001b[1;32m    630\u001b[0m            [1., 1.]])\n\u001b[1;32m    631\u001b[0m     \"\"\"\n\u001b[0;32m--> 632\u001b[0;31m     \u001b[0mX\u001b[0m\u001b[0;34m,\u001b[0m \u001b[0mY\u001b[0m \u001b[0;34m=\u001b[0m \u001b[0mcheck_pairwise_arrays\u001b[0m\u001b[0;34m(\u001b[0m\u001b[0mX\u001b[0m\u001b[0;34m,\u001b[0m \u001b[0mY\u001b[0m\u001b[0;34m)\u001b[0m\u001b[0;34m\u001b[0m\u001b[0;34m\u001b[0m\u001b[0m\n\u001b[0m\u001b[1;32m    633\u001b[0m \u001b[0;34m\u001b[0m\u001b[0m\n\u001b[1;32m    634\u001b[0m     \u001b[0;32mif\u001b[0m \u001b[0missparse\u001b[0m\u001b[0;34m(\u001b[0m\u001b[0mX\u001b[0m\u001b[0;34m)\u001b[0m \u001b[0;32mor\u001b[0m \u001b[0missparse\u001b[0m\u001b[0;34m(\u001b[0m\u001b[0mY\u001b[0m\u001b[0;34m)\u001b[0m\u001b[0;34m:\u001b[0m\u001b[0;34m\u001b[0m\u001b[0;34m\u001b[0m\u001b[0m\n",
      "\u001b[0;32m~/.local/lib/python3.6/site-packages/sklearn/metrics/pairwise.py\u001b[0m in \u001b[0;36mcheck_pairwise_arrays\u001b[0;34m(X, Y, precomputed, dtype)\u001b[0m\n\u001b[1;32m    110\u001b[0m     \u001b[0;32melse\u001b[0m\u001b[0;34m:\u001b[0m\u001b[0;34m\u001b[0m\u001b[0;34m\u001b[0m\u001b[0m\n\u001b[1;32m    111\u001b[0m         X = check_array(X, accept_sparse='csr', dtype=dtype,\n\u001b[0;32m--> 112\u001b[0;31m                         estimator=estimator)\n\u001b[0m\u001b[1;32m    113\u001b[0m         Y = check_array(Y, accept_sparse='csr', dtype=dtype,\n\u001b[1;32m    114\u001b[0m                         estimator=estimator)\n",
      "\u001b[0;32m~/.local/lib/python3.6/site-packages/sklearn/utils/validation.py\u001b[0m in \u001b[0;36mcheck_array\u001b[0;34m(array, accept_sparse, accept_large_sparse, dtype, order, copy, force_all_finite, ensure_2d, allow_nd, ensure_min_samples, ensure_min_features, warn_on_dtype, estimator)\u001b[0m\n\u001b[1;32m    494\u001b[0m             \u001b[0;32mtry\u001b[0m\u001b[0;34m:\u001b[0m\u001b[0;34m\u001b[0m\u001b[0;34m\u001b[0m\u001b[0m\n\u001b[1;32m    495\u001b[0m                 \u001b[0mwarnings\u001b[0m\u001b[0;34m.\u001b[0m\u001b[0msimplefilter\u001b[0m\u001b[0;34m(\u001b[0m\u001b[0;34m'error'\u001b[0m\u001b[0;34m,\u001b[0m \u001b[0mComplexWarning\u001b[0m\u001b[0;34m)\u001b[0m\u001b[0;34m\u001b[0m\u001b[0;34m\u001b[0m\u001b[0m\n\u001b[0;32m--> 496\u001b[0;31m                 \u001b[0marray\u001b[0m \u001b[0;34m=\u001b[0m \u001b[0mnp\u001b[0m\u001b[0;34m.\u001b[0m\u001b[0masarray\u001b[0m\u001b[0;34m(\u001b[0m\u001b[0marray\u001b[0m\u001b[0;34m,\u001b[0m \u001b[0mdtype\u001b[0m\u001b[0;34m=\u001b[0m\u001b[0mdtype\u001b[0m\u001b[0;34m,\u001b[0m \u001b[0morder\u001b[0m\u001b[0;34m=\u001b[0m\u001b[0morder\u001b[0m\u001b[0;34m)\u001b[0m\u001b[0;34m\u001b[0m\u001b[0;34m\u001b[0m\u001b[0m\n\u001b[0m\u001b[1;32m    497\u001b[0m             \u001b[0;32mexcept\u001b[0m \u001b[0mComplexWarning\u001b[0m\u001b[0;34m:\u001b[0m\u001b[0;34m\u001b[0m\u001b[0;34m\u001b[0m\u001b[0m\n\u001b[1;32m    498\u001b[0m                 raise ValueError(\"Complex data not supported\\n\"\n",
      "\u001b[0;32m~/.local/lib/python3.6/site-packages/numpy/core/_asarray.py\u001b[0m in \u001b[0;36masarray\u001b[0;34m(a, dtype, order)\u001b[0m\n\u001b[1;32m     83\u001b[0m \u001b[0;34m\u001b[0m\u001b[0m\n\u001b[1;32m     84\u001b[0m     \"\"\"\n\u001b[0;32m---> 85\u001b[0;31m     \u001b[0;32mreturn\u001b[0m \u001b[0marray\u001b[0m\u001b[0;34m(\u001b[0m\u001b[0ma\u001b[0m\u001b[0;34m,\u001b[0m \u001b[0mdtype\u001b[0m\u001b[0;34m,\u001b[0m \u001b[0mcopy\u001b[0m\u001b[0;34m=\u001b[0m\u001b[0;32mFalse\u001b[0m\u001b[0;34m,\u001b[0m \u001b[0morder\u001b[0m\u001b[0;34m=\u001b[0m\u001b[0morder\u001b[0m\u001b[0;34m)\u001b[0m\u001b[0;34m\u001b[0m\u001b[0;34m\u001b[0m\u001b[0m\n\u001b[0m\u001b[1;32m     86\u001b[0m \u001b[0;34m\u001b[0m\u001b[0m\n\u001b[1;32m     87\u001b[0m \u001b[0;34m\u001b[0m\u001b[0m\n",
      "\u001b[0;31mValueError\u001b[0m: setting an array element with a sequence."
     ]
    }
   ],
   "source": [
    "p = pairwise_distances(magnitudes, metric='manhattan')"
   ]
  },
  {
   "cell_type": "code",
   "execution_count": null,
   "metadata": {},
   "outputs": [],
   "source": []
  },
  {
   "cell_type": "code",
   "execution_count": null,
   "metadata": {},
   "outputs": [],
   "source": [
    "def get_euclidean_distance(local_id)"
   ]
  },
  {
   "cell_type": "code",
   "execution_count": null,
   "metadata": {},
   "outputs": [],
   "source": []
  },
  {
   "cell_type": "code",
   "execution_count": null,
   "metadata": {},
   "outputs": [],
   "source": [
    "def get_ts_ss_similarity(article_id):"
   ]
  },
  {
   "cell_type": "code",
   "execution_count": null,
   "metadata": {},
   "outputs": [],
   "source": [
    "def get_triangle_similarity(magnitude, angles):"
   ]
  },
  {
   "cell_type": "code",
   "execution_count": null,
   "metadata": {},
   "outputs": [],
   "source": []
  },
  {
   "cell_type": "code",
   "execution_count": null,
   "metadata": {},
   "outputs": [],
   "source": []
  },
  {
   "cell_type": "code",
   "execution_count": null,
   "metadata": {},
   "outputs": [],
   "source": []
  },
  {
   "cell_type": "code",
   "execution_count": null,
   "metadata": {},
   "outputs": [],
   "source": []
  },
  {
   "cell_type": "code",
   "execution_count": 33,
   "metadata": {},
   "outputs": [],
   "source": [
    "import numpy as np\n",
    "from sklearn.metrics import pairwise_distances\n",
    "from sklearn.metrics.pairwise import pairwise_kernels\n",
    "\n",
    "X = np.array([[2, 3], [3, 5], [5, 8]])\n",
    "Y = np.array([[1, 0], [2, 1]])"
   ]
  },
  {
   "cell_type": "code",
   "execution_count": 34,
   "metadata": {},
   "outputs": [
    {
     "data": {
      "text/plain": [
       "array([[2, 3],\n",
       "       [3, 5],\n",
       "       [5, 8]])"
      ]
     },
     "execution_count": 34,
     "metadata": {},
     "output_type": "execute_result"
    }
   ],
   "source": [
    "X"
   ]
  },
  {
   "cell_type": "code",
   "execution_count": 35,
   "metadata": {
    "scrolled": true
   },
   "outputs": [
    {
     "data": {
      "text/plain": [
       "array([[1, 0],\n",
       "       [2, 1]])"
      ]
     },
     "execution_count": 35,
     "metadata": {},
     "output_type": "execute_result"
    }
   ],
   "source": [
    "Y"
   ]
  },
  {
   "cell_type": "code",
   "execution_count": 36,
   "metadata": {
    "scrolled": true
   },
   "outputs": [
    {
     "data": {
      "text/plain": [
       "array([[0., 2.],\n",
       "       [2., 0.]])"
      ]
     },
     "execution_count": 36,
     "metadata": {},
     "output_type": "execute_result"
    }
   ],
   "source": [
    "pairwise_distances(Y, Y, metric='manhattan')"
   ]
  },
  {
   "cell_type": "code",
   "execution_count": 37,
   "metadata": {},
   "outputs": [
    {
     "data": {
      "text/plain": [
       "array([[0., 3., 8.],\n",
       "       [3., 0., 5.],\n",
       "       [8., 5., 0.]])"
      ]
     },
     "execution_count": 37,
     "metadata": {},
     "output_type": "execute_result"
    }
   ],
   "source": [
    "pairwise_distances(X, X, metric='manhattan')"
   ]
  },
  {
   "cell_type": "code",
   "execution_count": 32,
   "metadata": {
    "scrolled": true
   },
   "outputs": [
    {
     "data": {
      "text/plain": [
       "array([[ 2.,  7.],\n",
       "       [ 3., 11.],\n",
       "       [ 5., 18.]])"
      ]
     },
     "execution_count": 32,
     "metadata": {},
     "output_type": "execute_result"
    }
   ],
   "source": [
    "\n",
    "pairwise_distances(X, Y, metric='manhattan')\n",
    "\n",
    "\n",
    "\n",
    "pairwise_distances(X, metric='manhattan')\n",
    "\n",
    "\n",
    "\n",
    "pairwise_kernels(X, Y, metric='linear')"
   ]
  },
  {
   "cell_type": "code",
   "execution_count": 59,
   "metadata": {},
   "outputs": [
    {
     "data": {
      "text/plain": [
       "array([[1, 2, 5],\n",
       "       [2, 3, 4],\n",
       "       [1, 2, 9]])"
      ]
     },
     "execution_count": 59,
     "metadata": {},
     "output_type": "execute_result"
    }
   ],
   "source": [
    "p = np.array([[1,2,5], [2,3,4], [1,2,9]])\n",
    "p"
   ]
  },
  {
   "cell_type": "code",
   "execution_count": 60,
   "metadata": {
    "scrolled": true
   },
   "outputs": [
    {
     "data": {
      "text/plain": [
       "(3, 3)"
      ]
     },
     "execution_count": 60,
     "metadata": {},
     "output_type": "execute_result"
    }
   ],
   "source": [
    "p.shape"
   ]
  },
  {
   "cell_type": "code",
   "execution_count": 61,
   "metadata": {},
   "outputs": [
    {
     "data": {
      "text/plain": [
       "array([[0., 3., 4.],\n",
       "       [3., 0., 7.],\n",
       "       [4., 7., 0.]])"
      ]
     },
     "execution_count": 61,
     "metadata": {},
     "output_type": "execute_result"
    }
   ],
   "source": [
    "pairwise_distances(p, metric='manhattan')"
   ]
  },
  {
   "cell_type": "code",
   "execution_count": 62,
   "metadata": {
    "scrolled": true
   },
   "outputs": [
    {
     "data": {
      "text/plain": [
       "array([[30., 28., 50.],\n",
       "       [28., 29., 44.],\n",
       "       [50., 44., 86.]])"
      ]
     },
     "execution_count": 62,
     "metadata": {},
     "output_type": "execute_result"
    }
   ],
   "source": [
    "pairwise_kernels(p, metric='linear')"
   ]
  },
  {
   "cell_type": "code",
   "execution_count": 66,
   "metadata": {},
   "outputs": [
    {
     "data": {
      "text/plain": [
       "array([[1, 0],\n",
       "       [2, 1]])"
      ]
     },
     "execution_count": 66,
     "metadata": {},
     "output_type": "execute_result"
    }
   ],
   "source": [
    "Y"
   ]
  },
  {
   "cell_type": "code",
   "execution_count": 64,
   "metadata": {},
   "outputs": [
    {
     "data": {
      "text/plain": [
       "array([[1, 0],\n",
       "       [4, 1]])"
      ]
     },
     "execution_count": 64,
     "metadata": {},
     "output_type": "execute_result"
    }
   ],
   "source": [
    "np.square(Y)"
   ]
  },
  {
   "cell_type": "code",
   "execution_count": 100,
   "metadata": {},
   "outputs": [
    {
     "data": {
      "text/plain": [
       "pandas.core.frame.DataFrame"
      ]
     },
     "execution_count": 100,
     "metadata": {},
     "output_type": "execute_result"
    }
   ],
   "source": [
    "df = pd.DataFrame({\"A\": [1, 2], \"B\": [3, 4]})\n",
    "type(df)"
   ]
  },
  {
   "cell_type": "code",
   "execution_count": 101,
   "metadata": {},
   "outputs": [
    {
     "data": {
      "text/plain": [
       "array([[1, 3],\n",
       "       [2, 4]])"
      ]
     },
     "execution_count": 101,
     "metadata": {},
     "output_type": "execute_result"
    }
   ],
   "source": [
    "df.to_numpy()"
   ]
  }
 ],
 "metadata": {
  "kernelspec": {
   "display_name": "Python 3",
   "language": "python",
   "name": "python3"
  },
  "language_info": {
   "codemirror_mode": {
    "name": "ipython",
    "version": 3
   },
   "file_extension": ".py",
   "mimetype": "text/x-python",
   "name": "python",
   "nbconvert_exporter": "python",
   "pygments_lexer": "ipython3",
   "version": "3.6.8"
  }
 },
 "nbformat": 4,
 "nbformat_minor": 2
}
